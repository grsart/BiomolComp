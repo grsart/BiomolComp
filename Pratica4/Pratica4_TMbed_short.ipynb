{
  "nbformat": 4,
  "nbformat_minor": 0,
  "metadata": {
    "colab": {
      "provenance": [],
      "private_outputs": true,
      "toc_visible": true
    },
    "kernelspec": {
      "name": "python3",
      "display_name": "Python 3"
    },
    "language_info": {
      "name": "python"
    },
    "accelerator": "GPU",
    "gpuClass": "standard"
  },
  "cells": [
    {
      "cell_type": "markdown",
      "source": [
        "# TMbed - Transmembrane proteins predicted through Language Model embeddings"
      ],
      "metadata": {
        "id": "sHppYVR_Mqvs"
      }
    },
    {
      "cell_type": "markdown",
      "source": [
        "Make sure all needed packages are installed."
      ],
      "metadata": {
        "id": "jIVnSWQJOyxJ"
      }
    },
    {
      "cell_type": "code",
      "execution_count": null,
      "metadata": {
        "id": "ujPF__tAJzK8"
      },
      "outputs": [],
      "source": [
        "!pip install h5py numpy tqdm typer transformers sentencepiece torch torchvision torchaudio --extra-index-url https://download.pytorch.org/whl/cu113"
      ]
    },
    {
      "cell_type": "markdown",
      "source": [
        "Clone TMbed."
      ],
      "metadata": {
        "id": "36GHT4RTO3qJ"
      }
    },
    {
      "cell_type": "code",
      "source": [
        "!git clone https://github.com/BernhoferM/TMbed.git tmbed"
      ],
      "metadata": {
        "id": "uvENINHwKUFC"
      },
      "execution_count": null,
      "outputs": []
    },
    {
      "cell_type": "markdown",
      "source": [
        "Make sure your Colab has a GPU available."
      ],
      "metadata": {
        "id": "V-dFMxgLj7DI"
      }
    },
    {
      "cell_type": "code",
      "source": [
        "!nvidia-smi"
      ],
      "metadata": {
        "id": "_MthOC4Sj5uv"
      },
      "execution_count": null,
      "outputs": []
    },
    {
      "cell_type": "markdown",
      "source": [
        "Download the fasta file"
      ],
      "metadata": {
        "id": "lFo7WZaaDoYc"
      }
    },
    {
      "cell_type": "code",
      "source": [
        "!wget -nc -P /content/tmbed/examples/ https://raw.githubusercontent.com/grsart/BiomolComp/refs/heads/main/Pratica4/proteins.fasta"
      ],
      "metadata": {
        "id": "v1w_8pW_Dska"
      },
      "execution_count": null,
      "outputs": []
    },
    {
      "cell_type": "markdown",
      "source": [
        "## Running TMbed via the command line."
      ],
      "metadata": {
        "id": "IPoq3TRRgN6w"
      }
    },
    {
      "cell_type": "code",
      "source": [
        "%cd '/content/tmbed/'\n",
        "\n",
        "!python -m tmbed predict -f /content/tmbed/examples/proteins.fasta -p /content/predictions.txt --out-format 0\n",
        "!cat /content/predictions.txt"
      ],
      "metadata": {
        "id": "g9medrZogX0Y"
      },
      "execution_count": null,
      "outputs": []
    }
  ]
}