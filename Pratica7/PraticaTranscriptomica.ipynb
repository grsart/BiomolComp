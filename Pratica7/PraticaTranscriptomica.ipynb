{
  "nbformat": 4,
  "nbformat_minor": 0,
  "metadata": {
    "colab": {
      "provenance": [],
      "authorship_tag": "ABX9TyMmHYGSL48upZsGgnz7hixw",
      "include_colab_link": true
    },
    "kernelspec": {
      "name": "python3",
      "display_name": "Python 3"
    },
    "language_info": {
      "name": "python"
    }
  },
  "cells": [
    {
      "cell_type": "markdown",
      "metadata": {
        "id": "view-in-github",
        "colab_type": "text"
      },
      "source": [
        "<a href=\"https://colab.research.google.com/github/grsart/BiomolComp/blob/main/Pratica7/PraticaTranscriptomica.ipynb\" target=\"_parent\"><img src=\"https://colab.research.google.com/assets/colab-badge.svg\" alt=\"Open In Colab\"/></a>"
      ]
    },
    {
      "cell_type": "markdown",
      "source": [
        "\n",
        "\n",
        "*Prática adaptada deste [colab](https://colab.research.google.com/github/bnsreenu/python_for_microscopists/blob/master/325_Transcriptomics_Unveiled.ipynb#scrollTo=bo6AWQz3qnp9)*\n",
        "\n",
        "Nesta prática, iremos entender como tratar, analisar e interpretar um experimento de transcriptoma.\n",
        "\n",
        "Especificamente, iremos fazer a análise de dados reais de sequenciamento de RNA de célula única.\n"
      ],
      "metadata": {
        "id": "Lso2y6ngHiNo"
      }
    },
    {
      "cell_type": "markdown",
      "source": [
        "## Instalação dos algoritmos\n",
        "\n",
        "O primeiro passo da prática é instalar os algoritmos necessários para a prática.\n",
        "\n",
        "### ScanPy\n",
        "Biblioteca Python especializada em análises de scRNA-seq\n",
        "\n",
        "### AnnData\n",
        "Biblioteca de estruturação de dados, desenvolvida para organizar e integrar diversos tipos de dados genômicos.\n",
        "Dividido em funções de Matrizes de Dados e Anotação"
      ],
      "metadata": {
        "id": "OEpek8RBKAoQ"
      }
    },
    {
      "cell_type": "code",
      "execution_count": null,
      "metadata": {
        "id": "BHLiFcGMHfHG"
      },
      "outputs": [],
      "source": [
        "!pip install scanpy\n",
        "!pip install anndata"
      ]
    },
    {
      "cell_type": "markdown",
      "source": [
        "## Dados a serem utilizados\n",
        "\n",
        "Inicialmente, vamos fazer o download dos dados de scRNA-seq que vamos utilizar.\n",
        "\n",
        "### Descrição do experimento\n",
        "Esses dados foram gerados pelo sequenciamento de mRNAs presentes em diferentes regiões de um tecido. Além disso, a anotação espacial da origem do mRNA permite a determinação do perfil de expressão gênica para cada localização espacial de um determinado tecido.\n",
        "\n",
        "O sequenciamento acontece por meio de algumas etapas:\n",
        "- **Preparação de biblioteca:** Amplificação de RNA e anotação espacial\n",
        "- **Sequenciamento:** Sequenciamento da biblioteca gerada e tratamento dos dados gerados\n",
        "\n",
        "### Organização da base de dados\n",
        "O arquivo está depositado neste [endereço](https://cell2location.cog.sanger.ac.uk/tutorial/mouse_brain_visium_wo_cloupe_data.zip).\n",
        "\n",
        "O arquivo compactado está dividido basicamente em duas pastas. A primeira, *raw*, contém os dados originais de sequenciamento. Já a segunda possui a versão tratada dos dados, após passar por etapas de processamento de anotação espacial, quantificação de expressão gênica, normalização e filtragem por meio de controle de qualidade.\n"
      ],
      "metadata": {
        "id": "4lIY9zP9LJlR"
      }
    },
    {
      "cell_type": "code",
      "source": [
        "# Baixando o arquivo com os dados\n",
        "!rm mouse_brain_visium_wo_cloupe_data\n",
        "!wget https://cell2location.cog.sanger.ac.uk/tutorial/mouse_brain_visium_wo_cloupe_data.zip\n",
        "\n",
        "# Descompactando o arquivo\n",
        "!unzip mouse_brain_visium_wo_cloupe_data.zip\n",
        "\n",
        "# Definindo a pasta contendo os dados que serão utilizados\n",
        "sp_data_folder = './mouse_brain_visium_wo_cloupe_data/rawdata/ST8059048/'\n",
        "\n",
        "\n"
      ],
      "metadata": {
        "id": "qpUIJIsvRkCf"
      },
      "execution_count": null,
      "outputs": []
    },
    {
      "cell_type": "markdown",
      "source": [],
      "metadata": {
        "id": "VMqE4VYaRc-x"
      }
    },
    {
      "cell_type": "code",
      "source": [
        "#Importando as bibliotecas necessárias para as análises\n",
        "import sys\n",
        "import scanpy as sc\n",
        "import anndata\n",
        "import pandas as pd\n",
        "import numpy as np\n",
        "import os\n",
        "import gc\n",
        "\n",
        "import seaborn as sns\n",
        "from matplotlib import pyplot as plt\n",
        "import matplotlib as mpl"
      ],
      "metadata": {
        "id": "wXQI3E7cOFtA"
      },
      "execution_count": 22,
      "outputs": []
    },
    {
      "cell_type": "code",
      "source": [
        "# Carregando o arquivo bruto proveniente do sequenciamento\n",
        "\n",
        "adata = sc.read_visium(sp_data_folder, count_file='filtered_feature_bc_matrix.h5', load_images=True)"
      ],
      "metadata": {
        "id": "H2-SICqATfvZ"
      },
      "execution_count": null,
      "outputs": []
    },
    {
      "cell_type": "markdown",
      "source": [
        "**Questão 1:** A saída do comando anterior gerou um aviso de alerta. Qual foi o alerta e por que acha que isso aconteceu?\n",
        "\n",
        "Corrija o problema anterior com o seguinte comando:"
      ],
      "metadata": {
        "id": "xCEAqLr7T6lZ"
      }
    },
    {
      "cell_type": "code",
      "source": [
        "adata.var_names_make_unique()"
      ],
      "metadata": {
        "id": "c4uYYsUuXAlK"
      },
      "execution_count": null,
      "outputs": []
    },
    {
      "cell_type": "markdown",
      "source": [
        "### Visualizando e compreendendo os dados existentes neste experimento\n",
        "\n",
        "Agora, vamos ver como o arquivo foi carregado.\n",
        "\n",
        "**Questão 2:** A partir do resultado abaixo, quais informações podem ser retiradas? O que são os observáveis? E as variáveis? Quantos observáveis e variáveis existem neste arquivo? Justifique\n"
      ],
      "metadata": {
        "id": "GAC2H6mDUNAJ"
      }
    },
    {
      "cell_type": "code",
      "source": [
        "adata"
      ],
      "metadata": {
        "id": "TofgBNawTgYx"
      },
      "execution_count": null,
      "outputs": []
    },
    {
      "cell_type": "markdown",
      "source": [
        "Vamos olhar com mais carinho para os observáveis e para as variáveis. Primeiramente, vamos ver as primeiras cinco entradas dos observáveis.\n",
        "\n"
      ],
      "metadata": {
        "id": "4f_ZWx5MYH7R"
      }
    },
    {
      "cell_type": "code",
      "source": [
        "adata.obs.head()\n"
      ],
      "metadata": {
        "id": "KYxRd1ITYnHC"
      },
      "execution_count": null,
      "outputs": []
    },
    {
      "cell_type": "code",
      "source": [
        "adata.var.head()\n"
      ],
      "metadata": {
        "id": "HiKipV1Pf1k7"
      },
      "execution_count": null,
      "outputs": []
    },
    {
      "cell_type": "markdown",
      "source": [
        "Quais células expressam qual gene?\n",
        "\n",
        "A matriz X trás essa informação, contendo o dado de expressão de cada gene para cada célula da amostra."
      ],
      "metadata": {
        "id": "qqzRC1CNf56R"
      }
    },
    {
      "cell_type": "code",
      "source": [
        "# Convert the sparse matrix to a dense matrix\n",
        "dense_matrix = adata.X.toarray()\n",
        "\n",
        "# Print the dense matrix\n",
        "print(dense_matrix)"
      ],
      "metadata": {
        "id": "-3JF-xBRgU8o"
      },
      "execution_count": null,
      "outputs": []
    },
    {
      "cell_type": "markdown",
      "source": [
        "**Questão 3:** Quais informações pode tirar desta tabela? É algo esperado para um estudo de expressão a nível celular?"
      ],
      "metadata": {
        "id": "W_nfcGGRhe0v"
      }
    },
    {
      "cell_type": "markdown",
      "source": [
        "Vamos extrair outra informação agora.\n",
        "- Quantos e quais são os genes que são efetivamente expressos em uma determinada célula?\n",
        "- O número de genes expressos mudam de célula para célula?\n",
        "\n",
        "Avalie o número de genes expressos para diferentes células, alterando o valor de 'cell_index' e rodando novamente a célula de execução abaixo."
      ],
      "metadata": {
        "id": "ropGeMGOhwyi"
      }
    },
    {
      "cell_type": "code",
      "source": [
        "cell_index = 0  # Índice da célula de interesse\n",
        "\n",
        "# Obter os dados de expressão da célula de interesse\n",
        "gene_expression = adata.X[cell_index]\n",
        "\n",
        "# Obter os índices somente dos genes que possuem um valor de expressão diferente de zero naquela célula\n",
        "expressed_gene_indices = gene_expression.nonzero()[1]\n",
        "\n",
        "# Obter os nomes dos genes para os índices recuperados anteriormente\n",
        "expressed_genes = adata.var_names[expressed_gene_indices]\n",
        "\n",
        "# Imprimir a lista dos genes expressos para aquela célula\n",
        "print(expressed_genes)"
      ],
      "metadata": {
        "id": "W36UAT8hiHlr"
      },
      "execution_count": null,
      "outputs": []
    },
    {
      "cell_type": "markdown",
      "source": [
        "Será que existe algum gene que é consistentemente mais expresso neste tecido? Podemos avaliar isso com um único comando:"
      ],
      "metadata": {
        "id": "5h7Omd9ckegL"
      }
    },
    {
      "cell_type": "code",
      "source": [
        "sc.pl.highest_expr_genes(adata, n_top=20)"
      ],
      "metadata": {
        "id": "tAk9CRHLkmpx"
      },
      "execution_count": null,
      "outputs": []
    },
    {
      "cell_type": "markdown",
      "source": [
        "Como foi dito no começo da prática, esses dados são provenientes de análise single-cell em um tecido. Uma informação existente nos dados é exatamente a imagem do tecido como um todo:"
      ],
      "metadata": {
        "id": "CM2oqFcXr5CR"
      }
    },
    {
      "cell_type": "code",
      "source": [
        "sc.pl.spatial(adata, img_key=\"hires\", color=None)"
      ],
      "metadata": {
        "id": "yH5B4C16svja"
      },
      "execution_count": null,
      "outputs": []
    },
    {
      "cell_type": "markdown",
      "source": [
        "Além da imagem do 'branco', é possível ver os pontos onde foram coletadas as amostras"
      ],
      "metadata": {
        "id": "YbKZgznUswjg"
      }
    },
    {
      "cell_type": "code",
      "source": [
        "sc.pl.spatial(adata, img_key=\"hires\", alpha=0.5) #Change alpha to 0 to see the tissue sample or plot by setting color=None"
      ],
      "metadata": {
        "id": "tncpyX_VtEAJ"
      },
      "execution_count": null,
      "outputs": []
    },
    {
      "cell_type": "markdown",
      "source": [
        "Os dados também fornecem a informação de quanto de cada gene é expresso em cada célula (cada esfera destacada no gráfico anterior). Podemos então visualizar essa distribuição.\n",
        "  \n",
        "Vamos fazer isso para três genes de interesse. O primeiro é o gene mais expresso, como vimos no gráfico de barras anteriormente.\n",
        "  \n",
        "Outros dois são os genes **Rorb** e **Vip**.\n",
        "  \n",
        "Antes, vamos checar se esses genes estão presentes nos dados"
      ],
      "metadata": {
        "id": "FPNfmPnGtFgJ"
      }
    },
    {
      "cell_type": "code",
      "source": [
        "# Listando o nome de todos os genes existentes nas leituras\n",
        "gene_names = adata.var.index\n",
        "\n",
        "# Verificando se os genes Rorb e Vip estão presentes na lista gerada\n",
        "print(\"Is Rorb gene present in the vars?\", \"Rorb\" in gene_names)\n",
        "print(\"Is Vip gene present in the vars?\", \"Vip\" in gene_names)"
      ],
      "metadata": {
        "id": "8Dq2n0I5vqi3"
      },
      "execution_count": null,
      "outputs": []
    },
    {
      "cell_type": "markdown",
      "source": [
        "**Questão 4:** O que a análise acima significa?"
      ],
      "metadata": {
        "id": "Sj-_3v0rv9mj"
      }
    },
    {
      "cell_type": "markdown",
      "source": [
        "Vamos agora projetar os resultados de perfil de expressão dos três genes no tecido"
      ],
      "metadata": {
        "id": "KMAw5-5HwJuq"
      }
    },
    {
      "cell_type": "code",
      "source": [
        "with mpl.rc_context({'figure.figsize': [6,7],\n",
        "                     'axes.facecolor': 'black'}):\n",
        "  sc.pl.spatial(adata, color=[\"Rorb\", \"Vip\", \"mt-Co3\"], img_key=None, size=1,\n",
        "                    vmin=0, cmap='magma', vmax='p99.0',\n",
        "                    gene_symbols='SYMBOL'\n",
        "                  )"
      ],
      "metadata": {
        "id": "gFFNRc4ZwUaK"
      },
      "execution_count": null,
      "outputs": []
    },
    {
      "cell_type": "markdown",
      "source": [
        "**Questão 5:** Discuta os gráficos obtidos. Existe alguma região onde os três genes estão expressos? Existe alguma região que algum gene não é expresso? Consegue ver algum padrão comum entre os gráficos?"
      ],
      "metadata": {
        "id": "yzxu6_vjwZU5"
      }
    },
    {
      "cell_type": "markdown",
      "source": [
        "### Preparação e limpeza dos dados\n",
        "\n",
        "Uma vez que a estrutura de dados foi compreendida e visto que os dados podem ser avaliados e analisados, vamos começar a curar e refinar os dados de forma a responder a nossa questão biológica - Como diferentes genes se agrupam e têm perfil de expressão correlacionados em localidades distintas de um mesmo tecido?"
      ],
      "metadata": {
        "id": "S4HOWgrEwu2Z"
      }
    },
    {
      "cell_type": "markdown",
      "source": [
        "Neste experimento, existe um interesse maior em genes ribossomais e mitocondriais. Para facilitar o processo de filtragem e avaliação em etapas posteriores, pode-se criar novas colunas sinalizando se o referido gene é mitocondrial ou ribossomal ou nenhum.\n",
        "  \n",
        "O primeiro passo é identificar esses genes. Para o mitocondrial, basta buscar no seu nome aqueles que se iniciam com ***'mt_'***\n"
      ],
      "metadata": {
        "id": "6nSa_Sqfy8cm"
      }
    },
    {
      "cell_type": "code",
      "source": [
        "# Criando uma nova coluna para sinalizar se um gene é mitocondrial ou não\n",
        "adata.var[\"mt\"] = adata.var_names.str.startswith(\"mt-\")\n",
        "\n",
        "#Identificando os genes que são mitocondriais\n",
        "adata.var[adata.var.index.str.startswith('mt-')]"
      ],
      "metadata": {
        "id": "86_rzjGQvr-V"
      },
      "execution_count": null,
      "outputs": []
    },
    {
      "cell_type": "markdown",
      "source": [
        "**Questão 6:** Quandos genes mitocondriais foram identificados?"
      ],
      "metadata": {
        "id": "Qrg16Cjc0Cyy"
      }
    },
    {
      "cell_type": "markdown",
      "source": [
        "Os genes ribossomais não têm uma marcação em seu nome. Felizmente, esses genes são conhecidos e tabelados em bancos de dados de expressão gênica. Vamos obter essa lista e usá-la para buscar nos nossos dados quais são os genes ribossomais."
      ],
      "metadata": {
        "id": "3MlYL2S50KMZ"
      }
    },
    {
      "cell_type": "code",
      "source": [
        "# Download da lista de genes ribossomais\n",
        "!wget -O KEGG_RIBOSOME.v2023.1.Hs.csv \"https://www.gsea-msigdb.org/gsea/msigdb/human/download_geneset.jsp?geneSetName=KEGG_RIBOSOME&fileType=CSV\"\n",
        "\n",
        "# Carregando o arquivo baixado como uma lista no python\n",
        "ribo_genes = pd.read_csv('./KEGG_RIBOSOME.v2023.1.Hs.csv', skiprows=2, header=None)\n",
        "\n",
        "# Imprimindo os genes ribossomais obtidos do banco de dados GSEA\n",
        "print(ribo_genes)\n",
        "\n",
        "# Identificando os genes ribossomais, comparando a lista de referencia com os dados experimentais\n",
        "adata.var['ribo'] = adata.var_names.isin(ribo_genes[0].values)"
      ],
      "metadata": {
        "id": "eyiFP7tTzrAk"
      },
      "execution_count": null,
      "outputs": []
    },
    {
      "cell_type": "markdown",
      "source": [
        "Vamos agora avaliar a qualidade dos dados experimentais, analisando as características dos genes mitocondriais e ribossomais. Isso permite avaliar aspectos da qualidade celular, como conteudo mitocondrial e atividade ribossomal. Isso é um bom indicativo da saúde da célula, integridade do RNA e evita artefatos experimentais.\n",
        "\n",
        "Para isso, vamos calcular o QC (Quality Control) levando em conta os genes mitocondriais e ribossomais"
      ],
      "metadata": {
        "id": "WEoUdxBH55lr"
      }
    },
    {
      "cell_type": "code",
      "source": [
        "# Cálculo dos parâmetros QC de célula\n",
        "sc.pp.calculate_qc_metrics(adata, qc_vars=[\"mt\", 'ribo'], inplace=True)\n",
        "\n",
        "# Verificação se os parâmetros foram calculados\n",
        "adata"
      ],
      "metadata": {
        "id": "D3KKAS1E6fPs"
      },
      "execution_count": null,
      "outputs": []
    },
    {
      "cell_type": "markdown",
      "source": [
        "**Questão 7:** A partir do resultado acima, como você sabe se os parâmetros vinculados ao QC foram calculados?"
      ],
      "metadata": {
        "id": "QRhpO_S36sdq"
      }
    },
    {
      "cell_type": "markdown",
      "source": [
        "Vamos verificar alguns parâmetros de interesse.\n",
        "  \n",
        "- Quantas células/spots foram analisadas?  \n",
        "- Quantas leituras foram feitas por célula, em média?  \n",
        "- Quantos genes foram encontrados por célula, em média?  "
      ],
      "metadata": {
        "id": "zbkQ6Ojy7V1a"
      }
    },
    {
      "cell_type": "code",
      "source": [
        "# Obtendo número de amostras\n",
        "number_of_spots = adata.obs_names.shape[0]\n",
        "\n",
        "# Calculando o número de leituras médio por amostra\n",
        "mean_reads_per_spot = adata.obs['total_counts'].mean()\n",
        "\n",
        "# Calculando o número mediano de genes por amostra\n",
        "median_genes_per_spot = adata.obs['n_genes_by_counts'].median()\n",
        "\n",
        "print(\"Number of spots under tissue:\", number_of_spots)\n",
        "print(\"Mean reads per spot:\", mean_reads_per_spot)\n",
        "print(\"Median genes per spot:\", median_genes_per_spot)"
      ],
      "metadata": {
        "id": "aG4Rp4dO6jQO"
      },
      "execution_count": null,
      "outputs": []
    },
    {
      "cell_type": "markdown",
      "source": [
        "Vamos avaliar do ponto de vista dos genes.\n",
        "\n",
        "Neste caso, informações de interesse dizem respeito a quantas amostras possuem determinado gene, ou a porcentagem de genes efetivamente expressos em uma célula.  "
      ],
      "metadata": {
        "id": "ZUskHhj078vU"
      }
    },
    {
      "cell_type": "code",
      "source": [
        "adata.var"
      ],
      "metadata": {
        "id": "YnAMY85S8_TE"
      },
      "execution_count": null,
      "outputs": []
    },
    {
      "cell_type": "markdown",
      "source": [
        "**Questão 8:** O que você acha que significam as as colunas *n_cells_by_counts* e *total_counts* ?"
      ],
      "metadata": {
        "id": "HTVKbIRV9LUy"
      }
    },
    {
      "cell_type": "markdown",
      "source": [
        "Vamos olhar mais profundamente para as amostras"
      ],
      "metadata": {
        "id": "XvsPEMow9fsa"
      }
    },
    {
      "cell_type": "code",
      "source": [
        "adata.obs"
      ],
      "metadata": {
        "id": "RSPPeIUO9ilj"
      },
      "execution_count": null,
      "outputs": []
    },
    {
      "cell_type": "markdown",
      "source": [
        "- Como é a distribuição de número de leituras por células? Quantas células tem quantas leituras?\n",
        "- Quantas células têm quantos genes expressos?"
      ],
      "metadata": {
        "id": "lPVZMqxg9zmK"
      }
    },
    {
      "cell_type": "code",
      "source": [
        "fig, axs = plt.subplots(1, 2, figsize=(15, 4))\n",
        "sns.histplot(adata.obs[\"total_counts\"], kde=False, ax=axs[0])\n",
        "sns.histplot(adata.obs[\"n_genes_by_counts\"], kde=False, bins=60, ax=axs[1])"
      ],
      "metadata": {
        "id": "WkGBoiOE-pfb"
      },
      "execution_count": null,
      "outputs": []
    },
    {
      "cell_type": "code",
      "source": [
        "sc.pl.violin(adata, ['n_genes_by_counts', 'total_counts', 'pct_counts_mt', 'pct_counts_ribo'],\n",
        "             jitter=0.4, multi_panel=True)"
      ],
      "metadata": {
        "id": "I-ejMOo0BI4K"
      },
      "execution_count": null,
      "outputs": []
    },
    {
      "cell_type": "markdown",
      "source": [
        "Células que tenham uma quantidade muito grande ou muito pequena de leituras ou que tenham uma quantidade bem menor de genes expressos devem ser descartadas para não introduzir artefatos nas análises de perfil de expressão. Como dito anteriormente, podemos também filtrar baseado na porcentagem de genes ribossomais/mitocondriais expressos.\n",
        "\n",
        "**Questão 9:** Baseado nessas informações e nos gráficos acima, quais seriam os valores de corte que você sugeriria para para descartar células?\n"
      ],
      "metadata": {
        "id": "tpukEPMU_rJi"
      }
    },
    {
      "cell_type": "markdown",
      "source": [
        "Para este caso, foram definidos os filtros de:\n",
        "- intervalo de *counts*: 5000 < counts < 35000\n",
        "- % gene mitocondrial < 20\n",
        "- % gene ribossomal < 2\n",
        "\n",
        "**Questão 10:** Estes cortes fazem sentido baseado no gráfico de violino?\n",
        "\n",
        "\n"
      ],
      "metadata": {
        "id": "dx7IZ4vx9ZNT"
      }
    },
    {
      "cell_type": "code",
      "source": [
        "sc.pp.filter_cells(adata, min_counts=5000)\n",
        "sc.pp.filter_cells(adata, max_counts=35000)\n",
        "adata = adata[adata.obs[\"pct_counts_mt\"] < 20]\n",
        "adata = adata[adata.obs[\"pct_counts_ribo\"] < 2]\n"
      ],
      "metadata": {
        "id": "gLUjBeYCB2o7"
      },
      "execution_count": null,
      "outputs": []
    },
    {
      "cell_type": "markdown",
      "source": [
        "Vamos visualizar como ficou o panorama de células após o filtro\n"
      ],
      "metadata": {
        "id": "69n_l29oB3TS"
      }
    },
    {
      "cell_type": "code",
      "source": [
        "sc.pl.violin(adata, ['n_genes_by_counts', 'total_counts', 'pct_counts_mt', 'pct_counts_ribo'],\n",
        "             jitter=0.4, multi_panel=True)"
      ],
      "metadata": {
        "id": "2-iCu70tCNjC"
      },
      "execution_count": null,
      "outputs": []
    },
    {
      "cell_type": "markdown",
      "source": [
        "**Questão 11:** Também é recomendável remover aqueles genes que aparecem em poucas ou nenhuma célula. Qual seria o racional por trás disso?"
      ],
      "metadata": {
        "id": "EQ7YQLmmBTDz"
      }
    },
    {
      "cell_type": "code",
      "source": [
        "# remover os genes que foram detectados em menos de 10 células\n",
        "sc.pp.filter_genes(adata, min_cells=10)"
      ],
      "metadata": {
        "id": "9wHsV7u3CjS7"
      },
      "execution_count": null,
      "outputs": []
    },
    {
      "cell_type": "markdown",
      "source": [
        "### Tratamento de amostrar\n",
        "Após o processo de filtragem, alguns pré-processamentos precisam ser realizados de forma a eliminar vieses de análise.\n",
        "\n",
        "O primeiro ponto relevante é a normalização do´número de leituras entre diferentes células. Isso precisa ser feito pois cada célula tem um número diferente de leituras, mesmo que tenha a mesma quantidade relativa de genes expressos.\n",
        "\n",
        "O segundo ponto é tomar o logaritmo do valor de count. Esse processo é importante para reduzir a variância e normalizar a distribuição dos dados.\n",
        "\n",
        "Vamos comparar o efeito desses dois procedimentos no gene de maior count, identificado anteriormente como sendo o mt-Co3."
      ],
      "metadata": {
        "id": "biAA3xeFCt7q"
      }
    },
    {
      "cell_type": "code",
      "source": [
        "# Distribuição de contagem antes de qualquer manipulação dos dados\n",
        "\n",
        "# Definir o nome do gene\n",
        "gene_name = 'mt-Co3'\n",
        "\n",
        "# Obter o índice do gene na lista\n",
        "gene_index = list(adata.var_names).index(gene_name)\n",
        "\n",
        "# Extrair a contagem de expressão gênica para este gene\n",
        "gene_counts = adata.X[:, gene_index]\n",
        "\n",
        "# Converter a matriz esparsa em um array\n",
        "gene_counts_array = gene_counts.toarray().flatten()\n",
        "\n",
        "# Gerar o histograma\n",
        "plt.hist(gene_counts_array, bins=30)\n",
        "plt.title(f\"Histogram of Counts per Cell for Gene {gene_name}\")\n",
        "plt.xlabel(\"Counts per Cell\")\n",
        "plt.ylabel(\"Frequency\")\n",
        "plt.show()"
      ],
      "metadata": {
        "id": "w3v-ipFwG3u7"
      },
      "execution_count": null,
      "outputs": []
    },
    {
      "cell_type": "markdown",
      "source": [
        "Agora vamos fazer o mesmo, mas para o dado normalizado, para o mesmo gene"
      ],
      "metadata": {
        "id": "rpuJcchuHVnD"
      }
    },
    {
      "cell_type": "code",
      "source": [
        "# Normalizando os dados\n",
        "sc.pp.normalize_total(adata, inplace=True, target_sum=1e4)\n",
        "\n",
        "# Obter a contagem de expressão gênica normalizada para o gene de interesse\n",
        "gene_counts_normalized = adata.X[:, gene_index]\n",
        "\n",
        "# Converter a matriz esparsa em um array\n",
        "gene_counts_normalized_array = gene_counts_normalized.toarray().flatten()\n",
        "\n",
        "# Gerar o histograma\n",
        "plt.hist(gene_counts_normalized_array, bins=30)\n",
        "plt.title(f\"Histogram of Normalized Counts per Cell for Gene {gene_name}\")\n",
        "plt.xlabel(\"Normalized Counts per Cell\")\n",
        "plt.ylabel(\"Frequency\")\n",
        "plt.show()"
      ],
      "metadata": {
        "id": "gseGATaTHT97"
      },
      "execution_count": null,
      "outputs": []
    },
    {
      "cell_type": "markdown",
      "source": [
        "Vamos agora tirar o logaritmo dos dados  repetir o processo"
      ],
      "metadata": {
        "id": "odf321iMHt1d"
      }
    },
    {
      "cell_type": "code",
      "source": [
        "# Transformando os dados em logaritmo\n",
        "sc.pp.log1p(adata)\n",
        "\n",
        "# Obter a contagem de expressão gênica em log para o gene de interesse\n",
        "gene_counts_log_transformed = adata.X[:, gene_index]\n",
        "\n",
        "# Converter a matriz esparsa em um array\n",
        "gene_counts_log_transformed_array = gene_counts_log_transformed.toarray().flatten()\n",
        "\n",
        "# Gerar o histograma\n",
        "plt.hist(gene_counts_log_transformed_array, bins=30)\n",
        "plt.title(f\"Histogram of Log-Transformed Counts per Cell for Gene {gene_name}\")\n",
        "plt.xlabel(\"Log-Transformed Counts per Cell\")\n",
        "plt.ylabel(\"Frequency\")\n",
        "plt.show()"
      ],
      "metadata": {
        "id": "tcHhylRTH0tz"
      },
      "execution_count": null,
      "outputs": []
    },
    {
      "cell_type": "markdown",
      "source": [
        "**Questão 12:** Discuta a diferença entre os gráficos e como as alterações podem afetar na análise relativa de perfil de expressão"
      ],
      "metadata": {
        "id": "KOb9AQZWIJBt"
      }
    },
    {
      "cell_type": "markdown",
      "source": [
        "### Identificando genes com perfil de expressão altamente variável\n",
        "Esses genes em geral têm perfil de expressão diferente em diferentes tipos de célula ou de condição biológica. Por conta disso, pode ser utilizado como marcado para aquele tipo de célula.\n",
        "\n"
      ],
      "metadata": {
        "id": "lSsRlusjIZ9D"
      }
    },
    {
      "cell_type": "code",
      "source": [
        "# Identificação dos top-2000 genes mais variáveis\n",
        "sc.pp.highly_variable_genes(adata, flavor=\"seurat\", n_top_genes=2000)\n",
        "\n",
        "adata.var"
      ],
      "metadata": {
        "id": "SDfmJ__aPkFV"
      },
      "execution_count": null,
      "outputs": []
    },
    {
      "cell_type": "markdown",
      "source": [
        "Note o surgimento de uma nova coluna booleana, nomeada \"Highly_variable\", indicando se aquele gene é um dos top-2000 mais variáveis.  \n",
        "  \n",
        "Uma outra forma de visualizar esse tipo de informação é graficando a dispersão do perfil de expressão do gene\n"
      ],
      "metadata": {
        "id": "ZdE4LgfNPsNz"
      }
    },
    {
      "cell_type": "code",
      "source": [
        "sc.pl.highly_variable_genes(adata)"
      ],
      "metadata": {
        "id": "vTyUGXgQQcmP"
      },
      "execution_count": null,
      "outputs": []
    },
    {
      "cell_type": "markdown",
      "source": [
        "**Questão 13:** Qual a importância de identificar os genes mais variáveis durante este experimento? Posso descartar os genes que estão fora da lista top-2000? Justifique"
      ],
      "metadata": {
        "id": "7u3E289aQhlM"
      }
    },
    {
      "cell_type": "code",
      "source": [
        "# Extrair somente os dados mais variáveis, descartando os outros\n",
        "adata = adata[:, adata.var.highly_variable]"
      ],
      "metadata": {
        "id": "nt2aat46Q_08"
      },
      "execution_count": null,
      "outputs": []
    },
    {
      "cell_type": "markdown",
      "source": [
        "Este primeiro filtro já reduziu consideravelmente a dimensionalidade dos dados. Porém, 2000 variáveis ainda é um número bem elevado.\n",
        "  \n",
        "O próximo passo é realizar uma outra redução de dimensionalidade, tentando descrever a variância do sistema com o menor número possível de combinações de variáveis. Para isso, utiliza-se a Análise de Componentes Principais.\n",
        "\n"
      ],
      "metadata": {
        "id": "Fnq8jvsQRQGi"
      }
    },
    {
      "cell_type": "code",
      "source": [
        "sc.pp.pca(adata) #By default calculates 30 PCAs\n",
        "\n",
        "# Graficando a variância de cada combinação de variável\n",
        "sc.pl.pca_variance_ratio(adata, log=True)"
      ],
      "metadata": {
        "id": "DrrjfI9URuPl"
      },
      "execution_count": null,
      "outputs": []
    },
    {
      "cell_type": "markdown",
      "source": [
        "**Questão 14:** Visualizando o gráfico, qual seria o seu critério para definir quantas componentes principais serão utilizadas para o restante da análise?"
      ],
      "metadata": {
        "id": "2hBBsDGgSBdE"
      }
    },
    {
      "cell_type": "markdown",
      "source": [
        "Após a definição do número 20 como adequado para a redução de dimensionalidade, é importante calcular a informação das vizinhanças utilizando o perfil de expressão gênica das diferentes células.  \n",
        "  \n",
        "Neste cálculo, busca-se observar as correlação no perfil de expressão e encontrar as células com perfis mais parecidos"
      ],
      "metadata": {
        "id": "9qwNujI5SVhr"
      }
    },
    {
      "cell_type": "code",
      "source": [
        "sc.pp.neighbors(adata, n_pcs=20)"
      ],
      "metadata": {
        "id": "a4mgf-2yS0X7"
      },
      "execution_count": null,
      "outputs": []
    },
    {
      "cell_type": "markdown",
      "source": [
        "Um outro nível de redução de dimensionalidade é indicado, de forma a reduzir para duas ou três dimensões. A abordagem UMAP (Uniform Manifold Approximation and Projection) reduz a dimensionalidade preservando as estruturas locais e globais dos dados, importante para manter a visualização dos dados"
      ],
      "metadata": {
        "id": "PQAu9r_fS08E"
      }
    },
    {
      "cell_type": "code",
      "source": [
        "# Reduzindo a dimensionalidade de 20 para 2 utilizando o algoritmo UMAP\n",
        "sc.tl.umap(adata, n_components=2)\n",
        "\n",
        "# Graficando o resultado:\n",
        "sc.pl.umap(adata)"
      ],
      "metadata": {
        "id": "OVwvdBIRTsS9"
      },
      "execution_count": null,
      "outputs": []
    },
    {
      "cell_type": "markdown",
      "source": [
        "A forma de deixar o gráfico mais palatável é projetar as informações dos genes expressos em mais células, dentre aqueles altamente variáveis.  \n",
        "  \n",
        "Para isso, deve-se identificar esses genes e então projetar eles no gráfico UMAP obtido acima"
      ],
      "metadata": {
        "id": "38s_yZHCT67s"
      }
    },
    {
      "cell_type": "code",
      "source": [
        "# Identificando os genes que foram expressos em uma quantidade maior de células\n",
        "sorted_by_num_cells = adata.var['n_cells_by_counts'].sort_values(ascending=False)\n",
        "sorted_by_num_cells\n",
        "\n"
      ],
      "metadata": {
        "id": "D_uqPUjvUQsd"
      },
      "execution_count": null,
      "outputs": []
    },
    {
      "cell_type": "code",
      "source": [
        "# Colorindo os gráficos UMAP de acordo com os genes mais expressos\n",
        "sc.pl.umap(adata, color=[\"Gm42418\", \"Fth1\", \"3110035E14Rik\"])"
      ],
      "metadata": {
        "id": "huJQb5AZUhUz"
      },
      "execution_count": null,
      "outputs": []
    },
    {
      "cell_type": "markdown",
      "source": [
        "**Questão 15:** Você é capaz de observar alguma variação na expressão para esses três genes? Eles parecem estar correlacionados entre si?\n",
        "\n"
      ],
      "metadata": {
        "id": "uw4W7-lcUn08"
      }
    },
    {
      "cell_type": "markdown",
      "source": [
        "Essa correlação é ajudada quando entendemos quais as células são mais parecidas entre si. A organização das células pode ser feita utilizando clusterização, onde as células com menor distância entre si definem um cluster.\n"
      ],
      "metadata": {
        "id": "kl4QxyHJVA8e"
      }
    },
    {
      "cell_type": "code",
      "source": [
        "#Instalando o algoritmo de clusterização\n",
        "!pip install leidenalg\n",
        "\n",
        "#Clusterizando os dados. Utilizando como distribuição de dados o gráfico UMAP\n",
        "sc.tl.leiden(adata, resolution=0.6, key_added=\"clusters\")\n",
        "\n",
        "# Graficando as informações de número de leituras, número de genes expressos por amostra e a predição de clusterização\n",
        "plt.rcParams[\"figure.figsize\"] = (4, 4)\n",
        "sc.pl.umap(adata, color=[\"total_counts\", \"n_genes_by_counts\", \"clusters\"], wspace=0.4)"
      ],
      "metadata": {
        "id": "1r4Bts7KVZKb"
      },
      "execution_count": null,
      "outputs": []
    },
    {
      "cell_type": "markdown",
      "source": [
        "Relembrando novamente, este experimento foi feito avaliando múltiplas células em um tecido. Uma das informações experimentais gravada é a posição relativa das células no tecido. Podemos então projetar as três informações anteriores na distribuição espacial, na tentativa de encontrar algum padrão espacial de similaridade de expressão gênica\n"
      ],
      "metadata": {
        "id": "XmpWLM-ZWGix"
      }
    },
    {
      "cell_type": "code",
      "source": [
        "plt.rcParams[\"figure.figsize\"] = (8, 8)\n",
        "sc.pl.spatial(adata, img_key=\"hires\", color=[\"total_counts\", \"n_genes_by_counts\",\"clusters\"])\n"
      ],
      "metadata": {
        "id": "1t2Bswx4WoAt"
      },
      "execution_count": null,
      "outputs": []
    },
    {
      "cell_type": "markdown",
      "source": [
        "**Questão 16:** Como você explica esses gráficos? Quais as informações mais relevantes?  "
      ],
      "metadata": {
        "id": "cyvHWGKhXOn8"
      }
    },
    {
      "cell_type": "markdown",
      "source": [
        "No estágio atual, foram identificados 12 clusters, que possuem perfis de expressão gênica similares. Uma boa pergunta a se fazer é: Qual é o gene representativo para cada um dos clusteres? Em outras palavras, qual gene poderia ser o marcador de um tipo celular ou um estado biológico?  \n",
        "  \n",
        "A análise neste momento é fazer uma comparação entre os perfis de expressão gênica de clusters diferentes para buscar os genes mais diferentes entre eles.  \n",
        "  \n",
        "Essa análise passa por métodos estatísticos como t-test para avaliar a significância estatística da diferença"
      ],
      "metadata": {
        "id": "-r2LxkhqXtS-"
      }
    },
    {
      "cell_type": "code",
      "source": [
        "# Agrupar as celulas de mesmo cluster e executar análise de expressão gênica diferencial usando t-test\n",
        "sc.tl.rank_genes_groups(adata, \"clusters\", method=\"t-test\")\n",
        "\n",
        "#Plot dos genes diferenciais de cada cluster frente a todos os outros.\n",
        "sc.pl.rank_genes_groups(adata, n_genes=10)"
      ],
      "metadata": {
        "id": "pOsK3UCyZIHm"
      },
      "execution_count": null,
      "outputs": []
    },
    {
      "cell_type": "markdown",
      "source": [
        "**Questão 17:** Como você interpreta os gráficos? É possível definir genes marcadores para cada cluster?"
      ],
      "metadata": {
        "id": "kWbZhGheZ8yu"
      }
    },
    {
      "cell_type": "markdown",
      "source": [
        "Uma vez identificados genes promissores, é possível ver como a sua expressão ocorre nas outras células. Trata-se de uma análise visual das diferenças da expressão daquele gene em células e clusters distintos, assim como possibilita identificar similaridade entre clusters\n"
      ],
      "metadata": {
        "id": "0DSbBpG4afh2"
      }
    },
    {
      "cell_type": "code",
      "source": [
        "#Avaliação dos 10 genes com perfil de expressão mais diferentes do cluster 6 em relação aos demais\n",
        "sc.pl.rank_genes_groups_heatmap(adata, groups=\"6\", n_genes=10, groupby=\"clusters\")"
      ],
      "metadata": {
        "id": "lhaZ0h1ea3Ld"
      },
      "execution_count": null,
      "outputs": []
    },
    {
      "cell_type": "markdown",
      "source": [
        "**Questão 18:** Qual o gene chamou mais atenção? Justifique e discuta as implicações biológicas.\n"
      ],
      "metadata": {
        "id": "s34V6vJxbYSk"
      }
    },
    {
      "cell_type": "markdown",
      "source": [
        "Podemos também avaliar como é a relação de perfil de expressão desse gene e a localização espacial no tecido em análise.\n",
        "\n"
      ],
      "metadata": {
        "id": "HV7g5jAmb0FL"
      }
    },
    {
      "cell_type": "code",
      "source": [
        "gene='ESCREVER GENE AQUI DA QUESTÂO 18 AQUI'\n",
        "plt.rcParams[\"figure.figsize\"] = (8, 8)\n",
        "sc.pl.spatial(adata, img_key=\"hires\", color=[\"clusters\", gene])"
      ],
      "metadata": {
        "id": "u4no7K6ecAHN"
      },
      "execution_count": null,
      "outputs": []
    }
  ]
}