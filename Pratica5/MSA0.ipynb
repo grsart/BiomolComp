{
  "nbformat": 4,
  "nbformat_minor": 0,
  "metadata": {
    "colab": {
      "provenance": []
    },
    "kernelspec": {
      "name": "python3",
      "display_name": "Python 3"
    },
    "language_info": {
      "name": "python"
    }
  },
  "cells": [
    {
      "cell_type": "markdown",
      "source": [
        "[![Open In Colab](https://colab.research.google.com/assets/colab-badge.svg)](https://colab.research.google.com/github/grsart/BiomolComp/blob/main/Pratica5/MSA0.ipynb)"
      ],
      "metadata": {
        "id": "5AjoR72wRlaQ"
      }
    },
    {
      "cell_type": "markdown",
      "source": [],
      "metadata": {
        "id": "MBc5R2MD0DFO"
      }
    },
    {
      "cell_type": "markdown",
      "source": [
        "#Alinhamento Múltiplo de Sequências (MSA)\n",
        "\n",
        "O alinhamento múltiplo de sequências é uma importante ferramenta para a caracterização de regiões conservadas em proteínas de uma família. Este tipo de alinhamento permite a comparação simultânea de sequências fazendo com que a predição de conservação de resíduos seja muito mais confiável. Além disso, o alinhamento múltiplo permite realização de analises filogenéticas de famílias de proteínas (assunto a ser abordado na próxima aula) que fornece informações sobre sua evolução.\n",
        "\n",
        "\n",
        "\n",
        "\n"
      ],
      "metadata": {
        "id": "qtPsVGBeQJpZ"
      }
    },
    {
      "cell_type": "markdown",
      "source": [
        "##1. Alinhamento Progressivo com ClustalW\n",
        "\n",
        "A primeira atividade irá utilizar sequências de proteínas obtidas a partir do Uniprot.\n",
        "\n",
        "Realizaremos o alinhamento múltiplo de diversos membros selecionados desta família.\n",
        "\n",
        "Neste primeiro momento, utilizaremos o programa **ClustalW**.\n",
        "\n",
        "A biblioteca Biopython não tem o clustalw integrado, mas contém ferramentas que permitem executar o ClustalW, caso o programa esteja disponível na máquina local."
      ],
      "metadata": {
        "id": "hXXJ8tz75CmM"
      }
    },
    {
      "cell_type": "markdown",
      "source": [
        "### Preparando o Ambiente para a Execução\n",
        "\n",
        "O código ao lado realiza a instalação do biopython no ambiente do Google Colab, além da importação de algumas bibliotecas que serão necessárias.\n",
        "\n",
        "Na sequência o código faz o download do clustalw a partir [deste link](http://www.clustal.org/download/current/clustalw-2.1-linux-x86_64-libcppstatic.tar.gz), permitindo que seja executado pelo biopython."
      ],
      "metadata": {
        "id": "gfyxEuLzRHKR"
      }
    },
    {
      "cell_type": "code",
      "source": [
        "#@title Preparando o Ambiente para a Execução\n",
        "\n",
        "# Installing Biopython and importing required libraries...\n",
        "\n",
        "!pip3 install biopython\n",
        "from Bio import SeqIO\n",
        "from Bio.Align.Applications import ClustalwCommandline\n",
        "from google.colab import files\n",
        "import os\n",
        "\n",
        "# Gettting ClustalW2....\n",
        "\n",
        "!wget http://www.clustal.org/download/current/clustalw-2.1-linux-x86_64-libcppstatic.tar.gz\n",
        "!tar -xzf clustalw-2.1-linux-x86_64-libcppstatic.tar.gz\n",
        "!mv clustalw-2.1-linux-x86_64-libcppstatic/clustalw2 .\n"
      ],
      "metadata": {
        "id": "PfZV4iihUl8X",
        "colab": {
          "base_uri": "https://localhost:8080/"
        },
        "outputId": "bedea205-9eac-4526-a786-2fe14e69769f"
      },
      "execution_count": 2,
      "outputs": [
        {
          "output_type": "stream",
          "name": "stdout",
          "text": [
            "Collecting biopython\n",
            "  Downloading biopython-1.85-cp312-cp312-manylinux_2_17_x86_64.manylinux2014_x86_64.whl.metadata (13 kB)\n",
            "Requirement already satisfied: numpy in /usr/local/lib/python3.12/dist-packages (from biopython) (2.0.2)\n",
            "Downloading biopython-1.85-cp312-cp312-manylinux_2_17_x86_64.manylinux2014_x86_64.whl (3.3 MB)\n",
            "\u001b[2K   \u001b[90m━━━━━━━━━━━━━━━━━━━━━━━━━━━━━━━━━━━━━━━━\u001b[0m \u001b[32m3.3/3.3 MB\u001b[0m \u001b[31m18.7 MB/s\u001b[0m eta \u001b[36m0:00:00\u001b[0m\n",
            "\u001b[?25hInstalling collected packages: biopython\n",
            "Successfully installed biopython-1.85\n"
          ]
        },
        {
          "output_type": "stream",
          "name": "stderr",
          "text": [
            "/usr/local/lib/python3.12/dist-packages/Bio/Application/__init__.py:39: BiopythonDeprecationWarning: The Bio.Application modules and modules relying on it have been deprecated.\n",
            "\n",
            "Due to the on going maintenance burden of keeping command line application\n",
            "wrappers up to date, we have decided to deprecate and eventually remove these\n",
            "modules.\n",
            "\n",
            "We instead now recommend building your command line and invoking it directly\n",
            "with the subprocess module.\n",
            "  warnings.warn(\n"
          ]
        },
        {
          "output_type": "stream",
          "name": "stdout",
          "text": [
            "--2025-09-25 22:00:37--  http://www.clustal.org/download/current/clustalw-2.1-linux-x86_64-libcppstatic.tar.gz\n",
            "Resolving www.clustal.org (www.clustal.org)... 137.43.93.206\n",
            "Connecting to www.clustal.org (www.clustal.org)|137.43.93.206|:80... connected.\n",
            "HTTP request sent, awaiting response... 200 OK\n",
            "Length: 2468744 (2.4M) [application/x-gzip]\n",
            "Saving to: ‘clustalw-2.1-linux-x86_64-libcppstatic.tar.gz’\n",
            "\n",
            "clustalw-2.1-linux- 100%[===================>]   2.35M  2.98MB/s    in 0.8s    \n",
            "\n",
            "2025-09-25 22:00:38 (2.98 MB/s) - ‘clustalw-2.1-linux-x86_64-libcppstatic.tar.gz’ saved [2468744/2468744]\n",
            "\n"
          ]
        }
      ]
    },
    {
      "cell_type": "markdown",
      "source": [
        "### Upload das Sequências que Serão Alinhadas\n",
        "\n",
        "Nesta seção, faremos o upload das sequências das proteínas da família das NTPDases para o posterior alinhamento. Neste notebook, assumimos que as sequências estão em formato **fasta**.\n",
        "\n",
        "O arquivo que usaremos está disponível [aqui](https://github.com/grsart/BiomolComp/blob/main/Pratica5/Seqs0.fasta). Clique no link e abra em nova aba para visualizar as sequências.\n",
        "\n",
        "**Q1 - Consegue antecipar alguma informação sobre como vai ser o alinhamento? O que pode falar sobre os organismos, sobre os tamanhos de sequência?**"
      ],
      "metadata": {
        "id": "rV_GzjKUSW8s"
      }
    },
    {
      "cell_type": "code",
      "source": [
        "seq_file=\"Seqs0.fasta\"\n",
        "!wget https://raw.githubusercontent.com/grsart/BiomolComp/refs/heads/main/Pratica5/Seqs0.fasta\n",
        "!ls\n",
        "!head Seqs0.fasta"
      ],
      "metadata": {
        "id": "uYtF-XasUvFq",
        "colab": {
          "base_uri": "https://localhost:8080/"
        },
        "outputId": "282d3c14-a4a8-46bc-cad7-10238894aad5"
      },
      "execution_count": 8,
      "outputs": [
        {
          "output_type": "stream",
          "name": "stdout",
          "text": [
            "--2025-09-25 22:02:09--  https://raw.githubusercontent.com/grsart/BiomolComp/refs/heads/main/Pratica5/Seqs0.fasta\n",
            "Resolving raw.githubusercontent.com (raw.githubusercontent.com)... 185.199.108.133, 185.199.109.133, 185.199.110.133, ...\n",
            "Connecting to raw.githubusercontent.com (raw.githubusercontent.com)|185.199.108.133|:443... connected.\n",
            "HTTP request sent, awaiting response... 200 OK\n",
            "Length: 1694 (1.7K) [text/plain]\n",
            "Saving to: ‘Seqs0.fasta’\n",
            "\n",
            "\rSeqs0.fasta           0%[                    ]       0  --.-KB/s               \rSeqs0.fasta         100%[===================>]   1.65K  --.-KB/s    in 0s      \n",
            "\n",
            "2025-09-25 22:02:09 (13.5 MB/s) - ‘Seqs0.fasta’ saved [1694/1694]\n",
            "\n",
            "clustalw2\t\t\t\t       sample_data\n",
            "clustalw-2.1-linux-x86_64-libcppstatic\t       Seqs0.fasta\n",
            "clustalw-2.1-linux-x86_64-libcppstatic.tar.gz  Seqs0.fasta.1\n",
            ">Antibody_Homosapiens-pembro\n",
            "QVQLVQSGAEVKKPGASVKVSCKASGYTFTGYYMHWVRQAPGQGLEWMGWINPNSGGTNYAQKFQGRVTMTRDTSISTAYMELSRLRSDDTAVYYCAKISGSYSFDYWGQGTLVTVSSASTKGPSVFPLAPSSKSTSGGTAALGCLVKDYFPEPVTVSWNSGALTSGVHTFPAVLQSSGLYSLSSVVTVPSSSLGTQTYICNVNHKPSNTKVDKKVEPKSC\n",
            ">sp|P43235|CATK_HUMAN \n",
            "MWGLKVLLLPVVSFALYPEEILDTHWELWKKTHRKQYNNKVDEISRRLIWEKNLKYISIH\n",
            "NLEASLGVHTYELAMNHLGDMTSEEVVQKMTGLKVPLSHSRSNDTLYIPEWEGRAPDSVDYRKKGYVTPVKNQGQCGSCWAFSSVGALEGQLKKKTGKLLNLSPQNLVDCVSENDGCGGGYMTNAFQYVQKNRGIDSEDAYPYVGQEESCMYNPTGKAAKCRGYREIPEGNEKALKRAVARVGPVSVAIDASLTSFQFYSKGVYYDESCNSDNLNHAVLAVGYGIQKGNKHWIIKNSWGENWGNKGYILMARNKNNACGIANLASFPKM\n",
            "\n",
            ">sp|P68871|HBB_HUMAN \n",
            "MVHLTPEEKSAVTALWGKVNVDEVGGEALGRLLVVYPWTQRFFESFGDLSTPDAVMGNPKVKAHGKKVLGAFSDGLAHLDNLKGTFATLSELHCDKLHVDPENFRLLGNVLVCVLAHHFG\n",
            "KEFTPPVQAAYQKVVAGVANALAHKYH\n",
            "\n"
          ]
        }
      ]
    },
    {
      "cell_type": "markdown",
      "source": [
        "###Inspecionando as sequências que serão alinhadas\n",
        "\n",
        "Nesta próxima seção, vamos inspecionar o nosso arquivo fasta, que contem múltiplas sequências. Vamos usar as funções do Biopython (SeqIO) para isto.\n",
        "\n",
        "Cada sequência é escaneada pela função *SeqIO.parse*. Delas, podemos listar a própria sequência, o cabeçalho (Id) e o número e resíduos na sequência, por exemplo."
      ],
      "metadata": {
        "id": "uyh-mltwzD4u"
      }
    },
    {
      "cell_type": "code",
      "source": [
        "count=0\n",
        "for seq_record in SeqIO.parse(seq_file, \"fasta\"):\n",
        "    count = count+1\n",
        "    print(\"SeqID: %s\" % seq_record.id)\n",
        "    print(repr(seq_record.seq))\n",
        "    print(\"Sequence Length: %d\" % len(seq_record))\n",
        "print(\"\")\n",
        "print(\"Number of sequences found: %d\" % count);"
      ],
      "metadata": {
        "id": "wCRzVm3Jl4YN",
        "colab": {
          "base_uri": "https://localhost:8080/"
        },
        "outputId": "1eb9465d-b626-4bfb-9ed9-27f1c11ae3ae"
      },
      "execution_count": 9,
      "outputs": [
        {
          "output_type": "stream",
          "name": "stdout",
          "text": [
            "SeqID: Antibody_Homosapiens-pembro\n",
            "Seq('QVQLVQSGAEVKKPGASVKVSCKASGYTFTGYYMHWVRQAPGQGLEWMGWINPN...KSC')\n",
            "Sequence Length: 221\n",
            "SeqID: sp|P43235|CATK_HUMAN\n",
            "Seq('MWGLKVLLLPVVSFALYPEEILDTHWELWKKTHRKQYNNKVDEISRRLIWEKNL...PKM')\n",
            "Sequence Length: 329\n",
            "SeqID: sp|P68871|HBB_HUMAN\n",
            "Seq('MVHLTPEEKSAVTALWGKVNVDEVGGEALGRLLVVYPWTQRFFESFGDLSTPDA...KYH')\n",
            "Sequence Length: 147\n",
            "SeqID: sp|P50995|ANX11_HUMAN\n",
            "Seq('MSYPGYPPPPGGYPPAAPGGGPWGGAAYPPPPSMPPIGLDNVATYAGQFNQDYL...GND')\n",
            "Sequence Length: 505\n",
            "SeqID: sp|P04406|G3P_HUMAN\n",
            "Seq('MGKVKVGVNGFGRIGRLVTRAAFNSGKVDIVAINDPFIDLNYMVYMFQYDSTHG...SKE')\n",
            "Sequence Length: 335\n",
            "\n",
            "Number of sequences found: 5\n"
          ]
        }
      ]
    },
    {
      "cell_type": "markdown",
      "source": [
        "###Alinhamento das Sequências com o ClustalW\n",
        "\n",
        "Nesta seção, faremos o alinhamento pelo método progressivo, usando o software *ClustalW*.\n",
        "\n",
        "No método progressivo, as sequencias são inicialmente alinhadas par a par e uma **distância** entre as sequências é calculada baseada no score do alinhamento (maior score significa maior similaridade e menor distância entre as sequências). Em seguida, um alinhamento múltiplo é construído pela adição progressiva das sequências, iniciando pelas mais próximas.\n",
        "\n",
        "O programa [ClustalW](http://www.clustal.org/clustal2/) foi descontinuado, mas ainda pode ser obtido. Em seu lugar, foi lançado o programa [Clustal Omega](http://www.clustal.org/omega/), que emprega modelos de Marvok (HMM) para o alinhamento mais rápido e preciso, partcularmente quando o número de sequências a ser alinhado é grande.\n",
        "\n",
        "Na seção abaixo, o biopython invoca o clustalw2 (que já baixamos e deixamos na pasta local) e passa o arquivo fasta com as múltiplas sequências como argumento.\n"
      ],
      "metadata": {
        "id": "CeB6t9KF3JPN"
      }
    },
    {
      "cell_type": "code",
      "execution_count": 10,
      "metadata": {
        "id": "iU8r3XULRjqu"
      },
      "outputs": [],
      "source": [
        "clustalw_exe = r\"./clustalw2\"\n",
        "clustalw_cline = ClustalwCommandline(clustalw_exe, infile=seq_file)\n",
        "assert os.path.isfile(clustalw_exe), \"Clustal W executable missing\"\n",
        "stdout, stderr = clustalw_cline()\n",
        "\n"
      ]
    },
    {
      "cell_type": "markdown",
      "source": [
        "### Inspecionando o Alinhamento\n",
        "\n",
        "Com sorte, o alinhamento já foi realizado pelo ClustalW. Dois arquivos devem ter sido escritos como arquivos de saída do clustalw: um arquivo com estensão .aln e um arquivo com extensão .dnd.\n",
        "\n",
        "O primeiro arquivo contém o MSA. O segundo contém as distâncias entre as sequências do MSA. Vamos analisar os dois.\n",
        "\n",
        "Primeiramente, vamos usar o *parser* do BioPython para abrir o arquivo .aln e printar o alinhamento."
      ],
      "metadata": {
        "id": "IiEHWi_85P2A"
      }
    },
    {
      "cell_type": "code",
      "source": [
        "from Bio import AlignIO\n",
        "align = AlignIO.read(\"Seqs0.aln\", \"clustal\")\n",
        "for record in align:\n",
        "  print(\"%s - %s\" % (record.seq, record.id))"
      ],
      "metadata": {
        "id": "C8Q7kC2PX9Eh",
        "colab": {
          "base_uri": "https://localhost:8080/"
        },
        "outputId": "e203c609-d12b-4660-ec9a-a135ac905a87"
      },
      "execution_count": 12,
      "outputs": [
        {
          "output_type": "stream",
          "name": "stdout",
          "text": [
            "---------------------------------QVQLVQSG------------AEVKKPGASVKVSCKASGYTFTGY-YMHWVRQAPGQGLEWMGWINPNSG------------------------------GTNYAQKFQGR-------------VTMTRDTSISTAYMELSRLRSDDTAVYYCAKISGSYSFDYWG-----QGTLVTVSSASTKGPSVFPLAPSSKSTSGGTAALGCLVKDYFP---------------------------------------EPVTVS------WNSG---------ALTSGVHTFPAVLQSS-----------------------------------GLYSLSSVVTVPSSSLGTQTYICN------------VNHKPSNTKVDKKVEPKSC----------------------------------------------------------------------------------------- - Antibody_Homosapiens-pembro\n",
            "-----------------------------MGKVKVGVNGFGRIG--------RLVTRAAFNSGKVDIVAINDPFIDLNYMVYMFQYDSTHGKFHGTVKAENGK--------------------------LVINGNPITIFQERDPSKIKWGDAGAEYVVESTGVFTTMEKAGAHLQGGAKRVIISAPSADAPMFVMGVNHEKYDNSLKIISNASCTTNCLAPLAKVIHDNFGIVEGLMTTVHAITA---------------------------------------TQKTVDGPSGKLWRDGRGALQNIIPASTGAAKAVGKVIPEL-----------------------------------NGKLTGMAFRVPTANVSVVDLTCR------------LEKPAKYDDIKKVVKQASEGPLKGILGYTEHQVVSSDFNSDTHSSTFDAGAGIALNDHFVKLISWYDNEFGYSNRVVDLMAHMASKE--------------------- - sp|P04406|G3P_HUMAN\n",
            "---------------------------------MVHLTPEE-------------KSAVTALWGKVNVDEVGGEALGRLLVVYPWTQR----------------------------------------------------------------------FFESFGDLSTPDAVMGNPKVKAHGKKVLGAFSDG---------------LAHLDN---------------------LKGTFATLSELHC---------------------------------------DKLHVD---------------------PENFRLLGNVLVCV-----------------------------------LAHHFGKEFTPP-VQAAYQKVVAG------------VANALAHKYH-------------------------------------------------------------------------------------------------- - sp|P68871|HBB_HUMAN\n",
            "---------------------MWGLKVLLLPVVSFALYPEEILDTH-----WELWKKTHRKQYNNKVDEISRRLIWEKNLKYISIHNLEASLGVHTYELAMNH--------------------------LGDMTSEEVVQKMTGLKVPLSHSRSNDTLYIPEWEGRAPDSVDYRKKGYVTPVKNQGQCGSCWAFSSVG----ALEGQLKKKTGKLLNLSPQNLVDCVSENDGCGGGYMTNAFQYVQ---------------------------------------KNRGIDSEDAYPYVGQEESCMYNPTGKAAKCRGYREIPEGN-----------------------------------EKALKRAVARVGPVSVAIDASLTS------------FQFYSKGVYYDESCNSDNLNHAVLAVGYGIQKGNKHWIIKNSWGENWG-------NKGYILMARNKNNACGIAN--LASFPKM------------------------- - sp|P43235|CATK_HUMAN\n",
            "MSYPGYPPPPGGYPPAAPGGGPWGGAAYPPPPSMPPIGLDNVATYAGQFNQDYLSGMAANMSGTFGGANMPNLYPGAPGAGYPPVPPGGFGQPPSAQQPVPPYGMYPPPGGNPPSRMPSYPPYPGAPVPGQPMPPPGQQPPGAYPGQPPVTYPGQPPVPLPGQQQPVPSYPGYPGSGTVTPAVPPTQFGSRGTITDAPGFDPLRDAEVLRKAMKGFGTDEQAIIDCLGSRSNKQRQQILLSFKTAYGKDLIKDLKSELSGNFEKTILALMKTPVLFDIYEIKEAIKGVGTDEACLIEILASRSNEHIRELNRAYKAEFKKTLEEAIRSDTSGHFQRLLISLSQGNRDESTNVDMSLAQRDAQELYAAGENRLGTDESKFNAVLCSRSRAHLVAVFNEYQRMTGRDIEKSICREMSGDLEEGMLAVVKCLKNTPAFFAERLNKAMRGAGTKDRTLIRIMVSRSETDLLDIRSEYKRMYGKSLYHDISGDTSGDYRKILLKICGGND - sp|P50995|ANX11_HUMAN\n"
          ]
        }
      ]
    },
    {
      "cell_type": "markdown",
      "source": [
        "**### Questão 2**\n",
        "\n",
        "**A) Como ficou o alinhamento? Ele está confiável?**   \n",
        "  \n",
        "**B) Existem regiões conservadas? E regiões mal alinhadas?**   \n",
        "  \n",
        "**C) Quais são os aspectos das sequências de entrada que explicam esse comportamento?**  \n"
      ],
      "metadata": {
        "id": "guAMHTQZ7GfA"
      }
    },
    {
      "cell_type": "markdown",
      "source": [
        "### Analisando as distâncias entre as sequências\n",
        "\n",
        "Uma vez que usamos um método progressivo e que as distâncias entre as sequências foram calculadas, podemos analisar, graficamente, estas distâncias através da construção de uma árvore. A*LERTA DE SPOILER*: Este é o princípio da análise filogenética que veremos em aulas seguintes.\n",
        "\n",
        "Vamos usar o Biopython para analisar o arquivo .dnd pela construção de uma árvore de distâncias."
      ],
      "metadata": {
        "id": "XiArVwEt7t7_"
      }
    },
    {
      "cell_type": "code",
      "source": [
        "from Bio import Phylo\n",
        "tree = Phylo.read(\"Seqs0.dnd\", \"newick\")\n",
        "Phylo.draw_ascii(tree)"
      ],
      "metadata": {
        "id": "56EiVMCSYLE-",
        "colab": {
          "base_uri": "https://localhost:8080/"
        },
        "outputId": "1833b560-85f2-431a-f399-6a4ba922b8c7"
      },
      "execution_count": 14,
      "outputs": [
        {
          "output_type": "stream",
          "name": "stdout",
          "text": [
            "  ________________________________________ Antibody_Homosapiens-pembro\n",
            " |\n",
            " |        _______________________________________ sp|P43235|CATK_HUMAN\n",
            " |   ____|\n",
            "_|__|    |________________________________________ sp|P50995|ANX11_HUMAN\n",
            " |  |\n",
            " |  |__________________________________________ sp|P68871|HBB_HUMAN\n",
            " |\n",
            " |_____________________________________ sp|P04406|G3P_HUMAN\n",
            "\n"
          ]
        }
      ]
    },
    {
      "cell_type": "markdown",
      "source": [
        "**### Questão 3**\n",
        "\n",
        "**É possível extrair alguma informação a partir da árvore de distância de sequência acima?**  "
      ],
      "metadata": {
        "id": "T6Lrw0ZJ6Nlt"
      }
    }
  ]
}
