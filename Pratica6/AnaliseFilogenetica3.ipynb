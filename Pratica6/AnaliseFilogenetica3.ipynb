{
  "nbformat": 4,
  "nbformat_minor": 0,
  "metadata": {
    "colab": {
      "provenance": [],
      "include_colab_link": true
    },
    "kernelspec": {
      "name": "python3",
      "display_name": "Python 3"
    },
    "language_info": {
      "name": "python"
    }
  },
  "cells": [
    {
      "cell_type": "markdown",
      "metadata": {
        "id": "view-in-github",
        "colab_type": "text"
      },
      "source": [
        "<a href=\"https://colab.research.google.com/github/grsart/BiomolComp/blob/main/Pratica6/AnaliseFilogenetica3.ipynb\" target=\"_parent\"><img src=\"https://colab.research.google.com/assets/colab-badge.svg\" alt=\"Open In Colab\"/></a>"
      ]
    },
    {
      "cell_type": "markdown",
      "source": [
        "[![Open In Colab](https://colab.research.google.com/assets/colab-badge.svg)](https://colab.research.google.com/github/grsart/BiomolComp/blob/main/Pratica6/AnaliseFilogenetica3.ipynb)"
      ],
      "metadata": {
        "id": "0ew4k2AFbrOG"
      }
    },
    {
      "cell_type": "markdown",
      "source": [
        "# Introdução #\n",
        "\n",
        "Obviamente, também podemos usar ferramentas do [Biopython](http://biopython.org) para análises filogenéticas.\n",
        "\n",
        "O Biopython ainda não é muito completo para esta finalidade. Mas algumas análises preliminares podem ser realizadas rapidamente com as ferramentas do Biopython."
      ],
      "metadata": {
        "id": "Y7xWtHyQb4zS"
      }
    },
    {
      "cell_type": "code",
      "source": [
        "#@title Preparando o Ambiente para a Execução\n",
        "\n",
        "# Installing Biopython and importing required libraries...\n",
        "\n",
        "!pip3 install biopython\n",
        "from Bio import SeqIO\n",
        "from Bio.Align.Applications import ClustalwCommandline\n",
        "from Bio import Phylo\n",
        "import os\n",
        "\n",
        "# Gettting ClustalW2....\n",
        "\n",
        "!wget http://www.clustal.org/download/current/clustalw-2.1-linux-x86_64-libcppstatic.tar.gz\n",
        "!tar -xzf clustalw-2.1-linux-x86_64-libcppstatic.tar.gz\n",
        "!mv clustalw-2.1-linux-x86_64-libcppstatic/clustalw2 .\n"
      ],
      "metadata": {
        "id": "GfzqnWQAb6f7",
        "colab": {
          "base_uri": "https://localhost:8080/"
        },
        "outputId": "cb4bdc2d-950e-4c60-80ec-af0bda2086e7"
      },
      "execution_count": 1,
      "outputs": [
        {
          "output_type": "stream",
          "name": "stdout",
          "text": [
            "Collecting biopython\n",
            "  Downloading biopython-1.85-cp312-cp312-manylinux_2_17_x86_64.manylinux2014_x86_64.whl.metadata (13 kB)\n",
            "Requirement already satisfied: numpy in /usr/local/lib/python3.12/dist-packages (from biopython) (2.0.2)\n",
            "Downloading biopython-1.85-cp312-cp312-manylinux_2_17_x86_64.manylinux2014_x86_64.whl (3.3 MB)\n",
            "\u001b[2K   \u001b[90m━━━━━━━━━━━━━━━━━━━━━━━━━━━━━━━━━━━━━━━━\u001b[0m \u001b[32m3.3/3.3 MB\u001b[0m \u001b[31m39.2 MB/s\u001b[0m eta \u001b[36m0:00:00\u001b[0m\n",
            "\u001b[?25hInstalling collected packages: biopython\n",
            "Successfully installed biopython-1.85\n"
          ]
        },
        {
          "output_type": "stream",
          "name": "stderr",
          "text": [
            "/usr/local/lib/python3.12/dist-packages/Bio/Application/__init__.py:39: BiopythonDeprecationWarning: The Bio.Application modules and modules relying on it have been deprecated.\n",
            "\n",
            "Due to the on going maintenance burden of keeping command line application\n",
            "wrappers up to date, we have decided to deprecate and eventually remove these\n",
            "modules.\n",
            "\n",
            "We instead now recommend building your command line and invoking it directly\n",
            "with the subprocess module.\n",
            "  warnings.warn(\n"
          ]
        },
        {
          "output_type": "stream",
          "name": "stdout",
          "text": [
            "--2025-10-03 03:34:06--  http://www.clustal.org/download/current/clustalw-2.1-linux-x86_64-libcppstatic.tar.gz\n",
            "Resolving www.clustal.org (www.clustal.org)... 137.43.93.206\n",
            "Connecting to www.clustal.org (www.clustal.org)|137.43.93.206|:80... connected.\n",
            "HTTP request sent, awaiting response... 200 OK\n",
            "Length: 2468744 (2.4M) [application/x-gzip]\n",
            "Saving to: ‘clustalw-2.1-linux-x86_64-libcppstatic.tar.gz’\n",
            "\n",
            "clustalw-2.1-linux- 100%[===================>]   2.35M  2.01MB/s    in 1.2s    \n",
            "\n",
            "2025-10-03 03:34:08 (2.01 MB/s) - ‘clustalw-2.1-linux-x86_64-libcppstatic.tar.gz’ saved [2468744/2468744]\n",
            "\n"
          ]
        }
      ]
    },
    {
      "cell_type": "markdown",
      "source": [
        "# Análise Filogenética #\n",
        "\n",
        "Nesta seção, vamos fazer o download da sequência de domínios transcriptase reversa de retrotransposons do tipo non-LTR que já usamos anteriormente.\n",
        "\n",
        "Na sequência inspecionaremos as sequências presentes neste arquivo."
      ],
      "metadata": {
        "id": "mo-9mWhLelXO"
      }
    },
    {
      "cell_type": "code",
      "source": [
        "seq_file=\"filogenia1.fasta\"\n",
        "\n",
        "!wget https://raw.githubusercontent.com/grsart/BiomolComp/main/Pratica6/filogenia1.fasta\n",
        "\n",
        "count=0\n",
        "for seq_record in SeqIO.parse(seq_file, \"fasta\"):\n",
        "    count = count+1\n",
        "    print(\"SeqID: %s\" % seq_record.id)\n",
        "    print(repr(seq_record.seq))\n",
        "    print(\"Sequence Length: %d\" % len(seq_record))\n",
        "print(\"\")\n",
        "print(\"Number of sequences found: %d\" % count);\n"
      ],
      "metadata": {
        "id": "tpuBVFPmb_lW",
        "colab": {
          "base_uri": "https://localhost:8080/"
        },
        "outputId": "0e5ee211-8629-434d-9b76-ed3c812c65ac"
      },
      "execution_count": 2,
      "outputs": [
        {
          "output_type": "stream",
          "name": "stdout",
          "text": [
            "--2025-10-03 03:34:51--  https://raw.githubusercontent.com/grsart/BiomolComp/main/Pratica6/filogenia1.fasta\n",
            "Resolving raw.githubusercontent.com (raw.githubusercontent.com)... 185.199.108.133, 185.199.109.133, 185.199.110.133, ...\n",
            "Connecting to raw.githubusercontent.com (raw.githubusercontent.com)|185.199.108.133|:443... connected.\n",
            "HTTP request sent, awaiting response... 200 OK\n",
            "Length: 8508 (8.3K) [text/plain]\n",
            "Saving to: ‘filogenia1.fasta’\n",
            "\n",
            "filogenia1.fasta    100%[===================>]   8.31K  --.-KB/s    in 0s      \n",
            "\n",
            "2025-10-03 03:34:51 (54.3 MB/s) - ‘filogenia1.fasta’ saved [8508/8508]\n",
            "\n",
            "SeqID: L1Mouse\n",
            "Seq('SFYEATITLIPKPQKDPTKIENFRPISLMNIDAKILNKILANRIQEHIKAIIHP...VTL')\n",
            "Sequence Length: 266\n",
            "SeqID: L1rat\n",
            "Seq('SFYEATITLIPKPHKDTTKKENFRPISLMNINAKILNKILANRIQEHIKTIIHH...VTL')\n",
            "Sequence Length: 266\n",
            "SeqID: L1Homo\n",
            "Seq('SFYEASIILIPKPGRDTTKKENFRPISLMNIDAKILNKILANRIQQHIKKLIHH...IQL')\n",
            "Sequence Length: 266\n",
            "SeqID: swimmer\n",
            "Seq('SWNEAIISIIPKEGKDRLDCANYRPVSVLNIDYKLFTSIISRRLETILPMLMHK...IAL')\n",
            "Sequence Length: 263\n",
            "SeqID: R2dros\n",
            "Seq('SIRLARTVFIPKTVTAKRPQDFRPISVPSVLVRQLNAILATRLNSSINWDPRQR...INF')\n",
            "Sequence Length: 267\n",
            "SeqID: R2earwig\n",
            "Seq('SFLESKTTLIPKKPNSTEPGDFRPITVQSVLVRQLNKILAARVAQHIPLDERQR...VPF')\n",
            "Sequence Length: 268\n",
            "SeqID: R2bombyx\n",
            "Seq('ILRQCRTVFVPKVERPGGPGEYRPISIASIPLRHFHSILARRLLACCPPDARQR...VDF')\n",
            "Sequence Length: 268\n",
            "SeqID: Rte1\n",
            "Seq('PWKTSKTTLIFKKGDRENLENYRPICLLPVLYKVFTKCLLNRMRRSLDEAQPVE...RQI')\n",
            "Sequence Length: 273\n",
            "SeqID: CgT1\n",
            "Seq('TFRKAEVVMIQKLGKTDFSKTGSWRPIALLSCLGKGLERLIAKRMAYLTILEGV...VWF')\n",
            "Sequence Length: 263\n",
            "SeqID: Tad1\n",
            "Seq('RFKDAKVVVLKKPGKSAAQQKLAGAWRPISLLSNVGKILEALVAKRLTQAAEEF...VWL')\n",
            "Sequence Length: 266\n",
            "SeqID: R1dros\n",
            "Seq('EWKCPRVVSLLKGPDKDKCEPSSYRGICLLPVFGKVLEAIMVNRVREVLPEGCR...ITV')\n",
            "Sequence Length: 253\n",
            "SeqID: R1bombyx\n",
            "Seq('VWKDGRLLVLPKGNGRPLTDPKAYRPVTLLPVLGKILEKVLLQCAPGLTHSISP...VSS')\n",
            "Sequence Length: 256\n",
            "SeqID: Jockey\n",
            "Seq('AWKSASIIMIHKTGKTPTDVDSYRPTSLLPSLGKIMERLILNRLLTCKDVTKAI...ITL')\n",
            "Sequence Length: 265\n",
            "SeqID: Tart\n",
            "Seq('AWKHAQVKMILKPGKSANEPRSYRPISLLSGLSKIFERLLLKRLFKVDLFKKAI...VIL')\n",
            "Sequence Length: 269\n",
            "SeqID: Doc\n",
            "Seq('KWKKSTIVMIPKPGKDKTQPSSYRPISLLTCLSKLFEKMLLLRISPHLRINNTL...VHL')\n",
            "Sequence Length: 257\n",
            "SeqID: Juan\n",
            "Seq('KWKNAKVVPILKPDKNPAEASSYRPISLLSSISKLFEKVILNRMMAHINENSIF...LML')\n",
            "Sequence Length: 266\n",
            "SeqID: BRG2\n",
            "Seq('SWRKATVIPIPKPGRDGSDPANYRPIALTSCICKTMERMINSRLVWYLERNKVI...LTL')\n",
            "Sequence Length: 262\n",
            "SeqID: I\n",
            "Seq('AYKTSLIIPILKPNTDKTKTSSYRPISLNCCIAKILDKIIAKRLWWLVTYNNLI...ITL')\n",
            "Sequence Length: 259\n",
            "SeqID: CR1Gallus\n",
            "Seq('DWRKGYVTPIYKKGSKEDPGNYRPVSLTSVPGKIMEQILLDDMLDHMRNERVIR...VLM')\n",
            "Sequence Length: 255\n",
            "SeqID: CR1Spixii\n",
            "Seq('DWKKANIVPIFKKGKKEDPGNYRPVSLTSXPGKIMEQVLKESILRHLEERKVIR...VTV')\n",
            "Sequence Length: 255\n",
            "SeqID: Q\n",
            "Seq('AWRKSWMVPIYKKGDRTDAINYRGITSLCAIAKVFELVIYKNLLHACRSYLSPY...VLL')\n",
            "Sequence Length: 256\n",
            "SeqID: T1\n",
            "Seq('LWKSCWLFPVHKKGCRSIVSNYRGITQTCATAKTFELCIFPTILHSCSSAISPK...IIL')\n",
            "Sequence Length: 256\n",
            "SeqID: Ingi\n",
            "Seq('AWKTRVIIPILKAGKKAEDLDSYRPVTLTSCLCKVMERIIAARLRDTVESQLTP...VTF')\n",
            "Sequence Length: 258\n",
            "SeqID: Lian\n",
            "Seq('SWRDITVMFIPKGGRASYEEAKSFRPISLTSFLLKCLERIIDHHIRDVYLANMP...VIL')\n",
            "Sequence Length: 263\n",
            "SeqID: R4\n",
            "Seq('WMCRGRTILIPKKGDRGDPSNYRPITCLNTCYKVLTSVMNSVILSHLSRGEALP...VEQ')\n",
            "Sequence Length: 285\n",
            "SeqID: CRE2\n",
            "Seq('RIRACILHPFRKEAGSAKVRPITPESALMKLAAHIALDSVEKSFRSTFKGWQYG...GFR')\n",
            "Sequence Length: 244\n",
            "SeqID: LoA\n",
            "Seq('SACRRARVVFIPKAGKKDITDPKSFRPISLTSFLLKTLEKMVDYKIRSTLLKQR...VIF')\n",
            "Sequence Length: 264\n",
            "SeqID: RTE2\n",
            "Seq('LWKISDVKLIPKKAKATKIKDFRPISLLPILSKMFSSILTRRLTPSLESYLDES...RWI')\n",
            "Sequence Length: 260\n",
            "SeqID: z82275\n",
            "Seq('CWKESTVVPIFKKGNASDPENYRPISLTHPLSRLFEKLVLQSIKKTCANKLSKI...IWV')\n",
            "Sequence Length: 252\n",
            "SeqID: pido\n",
            "Seq('LWKTTCVIPKFKSGPVGNIQNYRPINLTSVVSRVMEKIIKVELLRYLLKNELLS...IKY')\n",
            "Sequence Length: 258\n",
            "SeqID: Sr1\n",
            "Seq('IWKLAHITPIFKGGRRSEPSSYRPVALLSIPSKIMESLIYDGILEYLSSSKFFS...VLV')\n",
            "Sequence Length: 254\n",
            "\n",
            "Number of sequences found: 31\n"
          ]
        }
      ]
    },
    {
      "cell_type": "markdown",
      "source": [
        "## Alinhamento das Sequências ##\n",
        "\n",
        "Nesta etapa, usamos o programa [ClustalW](http://www.clustal.org/clustal2/) para preparar um alinhamento múltiplo de sequências (MSA). Como o ClustalW utiliza o método progressivo para o alinhamento múltiplo, as distâncias entre as sequências já são calculadas e salvas juntamente com o alinhamento. Efetivamente, o programa gera um arquivo:\n",
        "\n",
        "```\n",
        "to store a dendrogram that describes the similarity\n",
        "of the sequences to each other.\n",
        "```\n",
        "\n",
        "Este arquivo **não é uma árvore filogenética**. Ele é a árvore guia (*guide-tree*) para a construção do alinhamento múltiplo. Mas, como o texto acima nos diz, ele agrupa as sequências similares, com as distâncias entre elas. Isto pode dar uma ideia do quão próximas as sequências são dentro de um alinhamento múltiplo.\n",
        "\n",
        "Na etapa abaixo, vamos fazer o alinhamento múltiplo (MSA) com o clustalw.\n"
      ],
      "metadata": {
        "id": "vruTd_lAe4JE"
      }
    },
    {
      "cell_type": "code",
      "source": [
        "clustalw_exe = r\"./clustalw2\"\n",
        "clustalw_cline = ClustalwCommandline(clustalw_exe, infile=seq_file, gapopen=5, gapext=0.1)\n",
        "assert os.path.isfile(clustalw_exe), \"Clustal W executable missing\"\n",
        "stdout, stderr = clustalw_cline()\n",
        "\n",
        "from Bio import AlignIO\n",
        "align = AlignIO.read(\"filogenia1.aln\", \"clustal\")\n",
        "for record in align:\n",
        "  print(\"%s - %s\" % (record.seq, record.id))\n"
      ],
      "metadata": {
        "id": "5c0a1dMOcUKw",
        "colab": {
          "base_uri": "https://localhost:8080/"
        },
        "outputId": "f71f335c-13aa-4861-e605-dea15d6f3843"
      },
      "execution_count": 3,
      "outputs": [
        {
          "output_type": "stream",
          "name": "stdout",
          "text": [
            "-SFYEATITLIPKPQKDPTKI---ENFRPISLMNIDAKILNKILANRIQEHIKA--IIHPDQVGFIP-GMQGWFNIRK---SINVIHYINKLKDKNHMIISLDAEKAFDKIQHPFMIKVLERSGIQGQYLNMIKAIYSKPVANIK----VNGEKLETIPLKSGTRQGCPLSPYLFNIVLEVLARAIQQ---------QKEIKGIQIGKEEVKISLFADDMIVYISDPK------NSNRELLNLINSFGEVAGYKINSNKSMAFL--------YTKNKQAEKEIRETTPFSIA--TNNIKYLGVTL- - L1Mouse\n",
            "-SFYEATITLIPKPHKDTTKK---ENFRPISLMNINAKILNKILANRIQEHIKT--IIHHDQVGFIP-GMQGWFNIRK---TINVIHYINKLKEQNHMIISLDAEKAFDKIQHPFMIKVLERIGIQGPYLNIVKAIYSKPVANIK----LNGEKLEAIPLKSGTRQGCPLSPYLFNIVLEVLARPIRK---------QKEIKGIQIGKEEVKISLFADDMIVYLSDPK------SSTREQLKLINNFSKVAGYKINSNKSVAFL--------YTKEKQAEKEIRETTPFIID--PNNIKYLGVTL- - L1rat\n",
            "-SFYEASIILIPKPGRDTTKK---ENFRPISLMNIDAKILNKILANRIQQHIKK--LIHHDQVGFIP-GMQGWFNIRK---SINVIQHINRAKDKNHMIISIDAEKAFDKIQQPFMLKTLNKLGIDGTYFKIIRAIYDKPTANII----LNGQKLEAFPLKTGTRQGCPLSPLLFNIVLEVLARAIRQ---------EKEIKGIQLGKEEVKLSLFADDMIVYLENPI------VSAQNLLKLISNFSKVSGYKINVQKSQAFL--------YTNNRQTESQIMSELPFTIA--SKRIKYLGIQL- - L1Homo\n",
            "-SWNEAIISIIPKEGKDRLDC---ANYRPVSVLNIDYKLFTSIISRRLETILPM--LMHKDQTGFIK-QRQTQDSIRK---VLNIIHQVVQQK-QETLVISLDAEKAFDSVRWTFLYKVLGKFGFCKSIIETISGLYNKPTARIK----INGDLTETITLERGTRQGCNMSALLFALYIEPLGQWIRQ---------RADIKGVKVSGKEQKLSLFADDLLLTISQPT------KTLPIIMDSLKDFGTLSGYKINVNKIQVL----------TLNYSPPQNIKDEYKWEWQ--ADSIKYLGIAL- - swimmer\n",
            "-SIRLARTVFIPKTV-TAKRP---QDFRPISVPSVLVRQLNAILATRLNSSIN----WDPRQRGFLP-TDGCADNA-T---IVDLVLRHSHKHFRSCYIANLDVSKAFDSLSHASIYDTLRAYGAPKGFVDYVQNTYEGGGTSLN----GDGWSSEEFVPARGVKQGDPLSPILFNLVMDRLLRTLPS------------EIGAKVGNAITNAAAFADDLVLFAETR-------MGLQVLLDKTLDFLSIVGLKLNADKCFTVGIKGQPK-QKCTVLEAQSFYVGSSEIPSLKRTDEWKYLGINF- - R2dros\n",
            "-SFLESKTTLIPKKP-NSTEP---GDFRPITVQSVLVRQLNKILAARVAQHIP----LDERQRGFRP-VDGVAHNI-F---ELDMILRCHRSEFRDLRLASLDIAKAFDSITHNTIEDTMEVRGFPKPMINYIMACYRRSKTRFT----FNGWISDTVKPTCGVKQGDPLSPILFNLVMDRMIRKLPK------------EVGVNVGSKHYNGLTFADDLLLFATTP-------EGLQSSIDIVHLFLLECGLLINKQKSFVLTVKAYPKLKKTAVIVTEKYMLDRHILPAIDREKLFHYLGVPF- - R2earwig\n",
            "-ILRQCRTVFVPKVE-RPGGP---GEYRPISIASIPLRHFHSILARRLLACCP----PDARQRGFIC-ADGTLENS-A---VLDAVLGDSRKKLRECHVAVLDFAKAFDTVSHEALVELLRLRGMPEQFCGYIAHLYDTASTTLA----VNNEMSSPVKVGRGVRQGDPLSPILFNVVMDLILASLPE------------RVGYRLEMELVSALAYADDLVLLAGSK-------VGMQESISAVDCVGRQMGLRLNCRKSAVLSMIPDGHRKKHHYLTERTFNIGGKPLRQVSCVERWRYLGVDF- - R2bombyx\n",
            "-PWKTSKTTLIFKKG-DRENL---ENYRPICLLPVLYKVFTKCLLNRMRRSLDE--AQPVEQAGFRR-SFSTIDHI-H---SLQRLLEVGREYQIPLTLVFIDFKKAFDSVEHQAIWKSLDEQGADGAYIDLLKECYKNCTTNFT----PFHR-PVAVPVTKGVRQGDPISPNLFSACLEHVFRKLSWIELKGEAEDYDTIPGMRVNGRNLTNLRFADDIVLIANHP-------NIASKMLQELVQKCSEVGLEINTGKTKVL--------RNRFADPSKVYFGSPSPTTQLDDVDEYIYLGRQI- - Rte1\n",
            "-LWKISDVKLIPKKA-KATKI---KDFRPISLLPILSKMFSSILTRRLTPSLES--YLDESQNGFRK-GRCCADNI-Q---SLTMLIEKCNEFQLPLLLLFIDYQTAFDKIGHSAVVSSLEKAGADPAMRKMIQEMMEGGQAEIS----VHDK-KLKVNLRTGVRQGDSASPALFSAALQAILTDCDN-EFAG--------VGIKVEGRHIRRLEFADDVVLICSTP-------EEVQERLEILDRISSIYGLKINQSKTVLL--------KNKFCRSQDVFFNG-SPIIP---VPGCRYLGRWI- - RTE2\n",
            "-AWKSASIIMIHKTGKTPTDV---DSYRPTSLLPSLGKIMERLILNRLLTCKDVTKAIPKFQFGFRL-QHGTPEQLHR---VVNFALEAMENKEYAVG-AFLDIQQAFDRVWHPGLLYKAKRL-FPPQLYLVVKSFLEERTFHVS----VDGYKSSIKPIAAGVPQGSVLGPTLYSVFASDMP-THTP--------------VTEVDEEDVLIATYADDTAVLTKSKSI-LAATSGLQEYLDAFQQWAENWNVRINAEKCANVTFANRTG-------SCPGVSLNG---RLIRHHQAYKYLGITL- - Jockey\n",
            "-AWKHAQVKMILKPGKSANEP---RSYRPISLLSGLSKIFERLLLKRLFKVDLFKKAIPLHQFGFRK-EHGSEQQIAR---VTQFILEAFERKEYCSA-VFLDISEAFDRVWHEGLLLKLAKI-LPYNLYIILESYLTNRTFEVKD---QAGETSRTGQIGAGVPQGSNLGPLLYSIFSSDMP-LPYI--------------YRPSPTERIMLSTYADDTIVLSSDTLA-TAATRNNENYLKSFSDWADKWGISVNAAKTGHVIFTLKNDL----PTSLRTMKIKG---QVIKIESKQSYLGVIL- - Tart\n",
            "-KWKKSTIVMIPKPGKDKTQP---SSYRPISLLTCLSKLFEKMLLLRISPHLRINNTLPTHQFGFRE-KHGTIEQVNR---ITSEIRTAFEHREYCTA-IFLDVAQAFDRVWLDGLLFKIIKL-LPQNTHKLLKSYLYNRVFAIR----CDTSTSRDCAIEAGVPQGSVLGPILYTLYTADFP-IDYN--------------LTT--------STFADDTAILSRSKCP-IKATALLSRHLTSVERWLADWRISINVQKCKQVTFTLNKQ-------TCPPLVLNN---ICIPQADEVTYLGVHL- - Doc\n",
            "-KWKNAKVVPILKPDKNPAEA---SSYRPISLLSSISKLFEKVILNRMMAHINENSIFANEQFGFRH-GHSTTHQLLR---VTNLTR-ANKSEGYSTGLALLDIEKAFDSVWHEGLIVKLKNFNFPTYIVRIIQSYLSNRTLQVN----YQNSRSERLPVRAGVPQGSILGPILYNIFTSDLPELPQG--------------CQK--------SLFADDTGLSAKGRSL-RVICSRLQKSLDIFSSYLQKWEISPNASKTQLIIFPHKPKALYLKPSSRHVVTMRG---VPINWSDEVKYLGLML- - Juan\n",
            "-TFRKAEVVMIQKLGKTDFSK--TGSWRPIALLSCLGKGLERLIAKRMAYLTILEGVASPQQVGALP-GRAAVDLTTC---LTHEIERALDLG-LTATLVTMDVKGAFDSVLRNRLIIRLRQQGWPNSLLRLIFTFASSRTARVR----LEDTTTEDFPLSCGLPQGSPLSPILFLLYIADILADNQR--------------LR---------FGYADDIGLLETSPSL-EENTTALSQEITQILNWGTDNKVAFEPAKCEAVHFSRKHKQ------RKDLPDIQARELTIKASTKPVRWLGVWF- - CgT1\n",
            "-RFKDAKVVVLKKPGKSAAQQKLAGAWRPISLLSNVGKILEALVAKRLTQAAEEFNLLPEGQMGNRA-GRSTEFAVRV---VTDAVHTAWKLG-AVTSLMLLDLKGAFDRVNHRWLLHTLWEMQLPTWIIRWVASFVAGRRGSLF----FDDETSRPYAITAGVPQGSPLSPILFILFITPLYRKLAT--------------IPNT-----ITVGFADDTNVVAVARTT-EENCRTLQAAWEVCSGWAGARGMEFEATKTELMHFTRTRAP------RTETLQLGD---TVLQPTESTRFLGVWL- - Tad1\n",
            "-EWKCPRVVSLLKGPDKDKCE--PSSYRGICLLPVFGKVLEAIMVNRVREVLPEGCRW---QFGFRQ-GRCVEDAWRH---VKSSVGASAA--QYVLG-TFVDFKGAFDNVEWSAALSRLADLGCR--EMGLWQSFFSGRRAVIR-----SSSGTVEVPVTRGCPQGSISGPFIWDILMDVLLQRLQ----------------PYCQL-----SAYADDLLLLVEGNSR-AVLEEKGAQLMSIVETWGAEVGDCLSTSKTVIMLLKG--ALR-----RAPTVRFAG---RNLPYVRSCRYLGITV- - R1dros\n",
            "-VWKDGRLLVLPKGNGRPLTD--PKAYRPVTLLPVLGKILEKVLLQCAPGLTHSISPR---QHGFSP-GRSTVTALRT---LLDVSRASEQ--RYVMA-IFLDISGAFDNAWWPMIMVK-AKRNCPPNIYRMLTDYFRGRRIAVV-----AGECAEWKVSTMGCPQGSVLGPTLWNVLMDDLLALPQG--------------IEGTEM-----VAYADDVTVLVRGDSR-AQLERRAHAVLGLAEGWASRNKLDFAPAKSRCIMLRG--KFQ-----RPPIVRYGS---HVIRFENQVTVLGVSS- - R1bombyx\n",
            "-SWRDITVMFIPKGGRASYEE--AKSFRPISLTSFLLKCLERIIDHHIRDVYLANMPLHVNQHAYQS-GKSTVTLLHK---VVYDIEKAFAQKQSCLG-VFLDIEGAFDNVSFDAILEAARNHGLPTMITNWIHQMLKNRHLFST-----LRQAAIRKLSVCGCPQGGVLSPLLWNLVADTLLRQLNN---------------CGFPT-----YGFADEYLALIVGMCI-STLFDLMQSALQVVESWCRQYGLSVNPNKTSIVLFTERRNRD-----GIRPLRLFG---TEINVTDQVKYVGVIL- - Lian\n",
            "SACRRARVVFIPKAGKKDITD--PKSFRPISLTSFLLKTLEKMVDYKIRSTLLKQRPLHPAQHAYRV-GRSTDTALYQ---LQRTLSAAIDYKEVALC-AFLDIEGAFDNTSHDAIKDTLSRRGLDPTTSRWILALLRSRQVTAS-----VHDSTVTVLTTKGCPQGGVLSPLLWSLLVDELLNRLTN---------------SGIQC-----QGYADDIVIMARGKFE-ESLCDMVQSGLRITYDWCKEVGLNLNPTKTVIVPFTRRHKLQ-----RMRQIWLSG---TPLERSREVKYLGVIF- - LoA\n",
            "-SWRKATVIPIPKPGRDGSDP---ANYRPIALTSCICKTMERMINSRLVWYLERNKVISNYQCGFRQ-GRTTTDHLVR----LEAYIRNALLRREHLVAVFFDIEKAYDTTWKHGILRDLARMGLKGHLPRFVEEFLKDRKFQVRV---GNSTSDTH-DQEMGVSQGSILSVTMFNIKINSIINALSP--------------G--I-----ECSLYVDD-FVILTYGKNMNTLERKLQLCLNKIQGWAKYNGFKFSDSKTVSMHFCNLRGLH-----LNPELFIHK---KKIPVVKTTKFLGLTL- - BRG2\n",
            "-AYKTSLIIPILKPNTDKTKT---SSYRPISLNCCIAKILDKIIAKRLWWLVTYNNLINDKQFGFKK-GKSTSDCLLY----VDYLITKS---KMHTSLVTLDFSRAFDRVGVHSIIQQLQEWKTGPKIIKYIKNFMSNRKITVRV---GPHTSSPL-PLFNGIPQGSPISVILFLIAFNKLSNIISL--------------HKEI-----KFNAYADDFFLIINFNKNTNT-NFNLDNLFDDIENWCSYSGASLSLSKCQHLHICRKR--H-----CTCKISCNN---FQIPSVTSLKILGITL- - I\n",
            "-DWRKGYVTPIYKKG-SKEDP---GNYRPVSLTSVPGKIMEQILLDDMLDHMRNERVIRDSQHGFTR-GRSCLTNLVA---FYDGVTALVD-EGKATDVIYLDLTKAFDMVPHHILISKLEGCGFDGWTTHWIRNWLKGRRQRVVT---NGSMSRWR-PVMSGVPQGSVLGPVLFNIFINDIDDGIEC--------------T---------LSKFADDTKLSGAVDTE--EGRDAIQRDLDRLERWARVNLMRFNTAKCRVLHLGWRNP--------RHLYRLEG---AVLESSSAEKDLGVLM- - CR1Gallus\n",
            "-DWKKANIVPIFKKG-KKEDP---GNYRPVSLTSXPGKIMEQVLKESILRHLEERKVIRXSQHGFTK-GKSCLTNLIA---FYEEVTGSVD-VGKAVDVIYLDFSKAFDTVSHSILISKLKKYGLDEWTIKWIENWLXHRAQRVVI---NGSMSSWQ-PVTSGVPQGSVLGPVLFNIFINDLEDGVDC--------------T---------LSKFADDTKLGGVVDTL--EGRDRIQKDLNKLEDWAKRNLMRFNKDKCRVLHLGWKNP--------MHSYRLGT---DELGSSSAEKDLGVTV- - CR1Spixii\n",
            "-IWKLAHITPIFKGG-RRSEP---SSYRPVALLSIPSKIMESLIYDGILEYLSSSKFFSPQQHGFRK-GHSCMTNLLT---AVDRWTTILDRKGK-VDVIYLDFSKAFDRVNHICLIKKLRRLGIKPPLIDWLSSYLENRHFKVRV---NFTLSQAM-ECPSGVPQGSILGPLLFLIYINDLPQQVSS--------------D---------LLLFADDVKLWREIRNH--NDILVLQEDLTRLQSWADDNGLTFNTSKCKVVHL-RHVA--------DHSYNLGN---SPLEVSQVEKDLGVLV- - Sr1\n",
            "-AWRKSWMVPIYKKG-DRTDA---INYRGITSLCAIAKVFELVIYKNLLHACRS--YLSPYQHGFVP-KKSTTTNLVE---FVTYCTSQID-AGAQVDAIYTDLKAAFDSLPHAILLAKLDKLGIPSPLVQWLKSYLIHRTYIVKI---DKHMSKEI-VSSSGVPQGSNIGPLLFILFINDVTLALPP--------------D--------SISLFADDAKIFAPINNT--GDCTFLQDCIEIFCSWCKRNGLTICIEKCYCVSFSRCRS------PVTGTYFMDG---TAVNRQNHAKDLGVLL- - Q\n",
            "-LWKSCWLFPVHKKG-CRSIV---SNYRGITQTCATAKTFELCIFPTILHSCSS--AISPKQHGFMP-GRSTSTNLMS---FVTNIFRSFE-AGTQLDAIYTDFHAAFDSLPHSLLLAKLSKLGFGDGIISWLSSYLSNRSCRVKT---GSYLSEEF-FCTSGVPQGCVLSPLLFSLFINDVCNVLPP--------------D--------GHLLYADDIKIFLPVSSS--SDCMSLQHYLNAFVHWCSSNLLRLCPDKCSVISFSHSLS------PISFNYTLSN---SSLSRVLSIRDLGIIL- - T1\n",
            "-CWKESTVVPIFKKG-NASDP---ENYRPISLTHPLSRLFEKLV-LQSIKKTCANK-LSKIQFGFLN-NRSCTLAHLNSSTFCHSILSHP--RKFLDIVLF-DFRKAFDTVPHNLLILKLKNFGIDDNLCDWFQSFISNRTSTVKV---SNSMSTCKYSISSGVLQGTVTGPFLFLIYINDLLEQFPA--------------DV-------HVTAFADDVKIS-S------ENIESIKKSISIIEQWCDIWKLKLAENKTQVLHIGKLNP--------KTDYLVNG---HKISVCSKARDLGIWV- - z82275\n",
            "-LWKTTCVIPKFKSG-PVGNI---QNYRPINLTSVVSRVMEKIIKVELLRYLLKNELLSPSQHGFLK-TRSCDTCMLD---YLDDITTHRD-KRFLVSALFLDFSKAFDKVPHKRLLIKLKSYGVKDPLHSWFASFLEGRQQTVKY---NNSLSLPK-PITSGVIQGSVLGPLLFIIYINDIINVIKH--------------G--------RPYLYADDLKIAYSYTPDVLEDMILIQKDLDRLTAWSQKWQLPLNHSKCGIMHIGNHNP--------QFTFYLNG---SKVQILQSTSDLGIKY- - pido\n",
            "-AWKTRVIIPILKAGKKAEDL---DSYRPVTLTSCLCKVMERIIAARLRDTVES--QLTPQQSAFRP-GCSTLEQLLH---VRAALCRPTH--QSRTGAVFVDYK-AFDTVDHDKIAREMHRMKVSPHIVKWCVSFLSNRTGRVR----FKEKLSRSRTFERGVPQGIVLGPIMFIIVMNSLSQRLAEVP-------------------LLQHGFFADDLTLFSRHTER-NVINHTLQCGLNVVLQWSKEYFMSVNVAKTKGTLCGCIER-------HPLTLQLDG---ERIGADRTPKLLGVTF- - Ingi\n",
            "-WMCRGRTILIPKKG-DRGDP---SNYRPITCLNTCYKVLTSVMNSVILSHLSRGEALPMNQRAMRKREWGCTHAMVL---DRAMVMDAMAQKKHSLSVAWLDYRKAYDSVSHEYIRWAINSVNIPRSVQLTLKRLMSDWETRFESTQCRPKLRSDKMKVLNGIFQGDSLSPTLFVLCIAPISYALNKGVG----QCQSSSGWSAGYGFEIGHQFYMDDLKLYARTP-------AMLDSQIQVVSEVSEAMGLHLNLSKCAKAHYAPHGAGGAQEAVEGAEGSRKG-EIPILGLRSTYKYLGVEQ- - R4\n",
            "-RIRACILHPFRKEA----GS---AKVRPITPESALMKLAAHIALDSVEKSFRS--TFKGWQYGVWG---DSTEAVKR---IREAYAEASS-----DTLVALDATNAYNRMSRRHILEAAYAQPELRFAFGVVNLSLGAAGELALY---ENGAKIHALKSTEGVRQGMVLSPLLFANAMSGIIRPLMEMHP------------------RVKVVAYLDDVTLIGPH--------AAVQDFLAEAGPQLSRVGFDINPAKSHHLAKLE----------VPEALSVSG--RTIPIAQGVVRILGAGFR - CRE2\n"
          ]
        }
      ]
    },
    {
      "cell_type": "markdown",
      "source": [
        "## Análise da Árvore Guia ##\n",
        "\n",
        "O programa ClustalW deve ter gerado dois arquivos. O arquivo filogenia1.aln foi o arquivo que visualizamos na célula acima. Este arquivo contém o alinhamento gerado pelo método progressivo.\n",
        "\n",
        "Já o arquivo filogenia1.dnd contem o dendograma com as distâncias (ou similaridades) que as sequências têm entre si. Este arquivo pode ser usado diretamente para a visualização de uma árvore de distâncias."
      ],
      "metadata": {
        "id": "NaKoCq2qfoLB"
      }
    },
    {
      "cell_type": "code",
      "source": [
        "tree = Phylo.read(\"filogenia1.dnd\", \"newick\")\n",
        "Phylo.draw_ascii(tree)"
      ],
      "metadata": {
        "id": "m9K10Sizcskw",
        "colab": {
          "base_uri": "https://localhost:8080/"
        },
        "outputId": "54cdbdc9-2968-425f-b291-b8ba38eb4f12"
      },
      "execution_count": 4,
      "outputs": [
        {
          "output_type": "stream",
          "name": "stdout",
          "text": [
            "                                                   ______ L1Mouse\n",
            "                                         _________|\n",
            "                    ____________________|         |______ L1rat\n",
            "                   |                    |\n",
            "         __________|                    |_______________ L1Homo\n",
            "        |          |\n",
            "        |          |______________________________________ swimmer\n",
            "        |\n",
            "        |               __________________________________ R2dros\n",
            "       ,|         _____|\n",
            "       ||    ____|     |___________________________________ R2earwig\n",
            "       ||   |    |\n",
            "       || __|    |________________________________________ R2bombyx\n",
            "       |||  |\n",
            "    ___|||  |_________________________________________________ R4\n",
            "   |   | |\n",
            "   |   | |      ________________________________________ Rte1\n",
            "   |   | |_____|\n",
            "   |   |       |_________________________________________ RTE2\n",
            "   |   |\n",
            "   |   |__________________________________________________________ CRE2\n",
            "  _|\n",
            " | |  _________________________________________ BRG2\n",
            " | |_|\n",
            " | | |_____________________________________________ I\n",
            " | |\n",
            " | |                             __________________ CR1Gallus\n",
            " | |           _________________|\n",
            " | |        __|                 |_________________ CR1Spixii\n",
            " | |       |  |\n",
            " | |      ,|  |__________________________________ Sr1\n",
            " | |      ||\n",
            " | |      ||           ______________________________ Q\n",
            " | | _____||__________|\n",
            " | ||     |           |________________________________ T1\n",
            " | ||     |\n",
            " | ||     |   _____________________________________ z82275\n",
            " |  |     |__|\n",
            " |  |        |______________________________________ pido\n",
            " |  |\n",
            " |  |_____________________________________________ Ingi\n",
            " |\n",
            " |      __________________________________________ R1dros\n",
            " |  ___|\n",
            " | |   |___________________________________________ R1bombyx\n",
            "_|_|\n",
            " | |         _____________________________________ Lian\n",
            " | |________|\n",
            " |          |__________________________________ LoA\n",
            " |\n",
            " |     ___________________________________________ CgT1\n",
            " |____|\n",
            " |    |_________________________________________ Tad1\n",
            " |\n",
            " |          __________________________________ Jockey\n",
            " |        ,|\n",
            " |     ___||__________________________________ Tart\n",
            " |    |   |\n",
            " |____|   |___________________________________ Doc\n",
            "      |\n",
            "      |______________________________________ Juan\n",
            "\n"
          ]
        }
      ]
    },
    {
      "cell_type": "markdown",
      "source": [
        "## Análise da Árvore ##\n",
        "\n",
        "No método acima, representamos uma árvore usando um formato de desenho em texto (ASCII). Esta metodologia é simples e rápida e os braços da árvore têm distâncias proporcionais à similaridade entre as sequências.\n",
        "\n",
        "É possível também gerar uma imagem com a árvore, desde que a biblioteca matplotlib esteja instalada e disponível (ela usualmente está disponível no Google Colab)."
      ],
      "metadata": {
        "id": "9tkL0zRmgF8f"
      }
    },
    {
      "cell_type": "code",
      "source": [
        "tree.rooted = True\n",
        "Phylo.draw(tree)"
      ],
      "metadata": {
        "id": "Apxa8sg3dTsI",
        "colab": {
          "base_uri": "https://localhost:8080/",
          "height": 449
        },
        "outputId": "cfb3e9b6-95dd-4aa7-9853-8936a64fe580"
      },
      "execution_count": 5,
      "outputs": [
        {
          "output_type": "display_data",
          "data": {
            "text/plain": [
              "<Figure size 640x480 with 1 Axes>"
            ],
            "image/png": "[encoded data removed]"
          },
          "metadata": {}
        }
      ]
    },
    {
      "cell_type": "markdown",
      "source": [
        "Compare a árvore obtida nesta análise com a árvore obtida na análise filogenética realizada com o MEGA11.\n",
        "\n",
        "**Q13- Elas são similares? Explique considerando as diferenças entre uma árvore-guia e uma árvore filogenética**\n",
        "\n",
        "**Q14- Por que não é seguro fazer inferências filogenéticas a partir de uma árvore-guia?**"
      ],
      "metadata": {
        "id": "zMdU8SbJcpuF"
      }
    }
  ]
}